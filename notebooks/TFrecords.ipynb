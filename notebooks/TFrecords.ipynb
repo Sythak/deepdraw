{
 "cells": [
  {
   "cell_type": "code",
   "execution_count": 2,
   "id": "d49164bc",
   "metadata": {
    "ExecuteTime": {
     "end_time": "2022-12-01T14:15:09.569034Z",
     "start_time": "2022-12-01T14:15:06.723840Z"
    }
   },
   "outputs": [],
   "source": [
    "import matplotlib.pyplot as plt\n",
    "import glob\n",
    "import os\n",
    "import numpy as np\n",
    "from sklearn.model_selection import train_test_split\n",
    "from io import BytesIO\n",
    "import tensorflow as tf\n",
    "import numpy as np\n",
    "from tensorflow.python.lib.io import file_io\n",
    "import yaml\n",
    "from yaml.loader import SafeLoader\n",
    "from google.cloud import storage\n",
    "import io"
   ]
  },
  {
   "cell_type": "markdown",
   "id": "a23db90a",
   "metadata": {},
   "source": [
    "## TFrecords for CNN"
   ]
  },
  {
   "cell_type": "code",
   "execution_count": 6,
   "id": "ba585ea4",
   "metadata": {
    "ExecuteTime": {
     "end_time": "2022-12-01T13:43:45.098544Z",
     "start_time": "2022-12-01T13:43:45.085873Z"
    }
   },
   "outputs": [],
   "source": [
    "def load_data(source, class_name, label, test_size=0.2, val_size=0.3, max_items_per_class= 100000):\n",
    "    \n",
    "    if source == 'quickdraw':\n",
    "        root = 'gs://quickdraw_dataset/full/numpy_bitmap/'\n",
    "        f = BytesIO(file_io.read_file_to_string(root + f'{class_name}' + '.npy', binary_mode=True))\n",
    "        data = np.load(f)\n",
    "    \n",
    "    if source == 'local':\n",
    "        root = './npy/'\n",
    "        filename = root + f'{class_name}' + '.npy'\n",
    "        data = np.load(filename)\n",
    "    \n",
    "    \n",
    "    X = data[0:max_items_per_class, :]\n",
    "    y = np.full(X.shape[0], label)\n",
    "\n",
    "    #shuffle (to be sure)\n",
    "    permutation = np.random.permutation(y.shape[0])\n",
    "    X = X[permutation, :]\n",
    "    \n",
    "    #separate into training and testing\n",
    "    X_train, X_test, y_train, y_test = train_test_split(X, y, test_size=test_size, shuffle=True)\n",
    "    X_train, X_val, y_train, y_val = train_test_split(X_train, y_train, test_size=val_size, shuffle=True)\n",
    "    \n",
    "    del(data)\n",
    "    \n",
    "    return X_train.astype(int), X_test.astype(int), X_val.astype(int), y_train.astype(int), y_test.astype(int), y_val.astype(int)"
   ]
  },
  {
   "cell_type": "code",
   "execution_count": 3,
   "id": "87993102",
   "metadata": {
    "ExecuteTime": {
     "end_time": "2022-12-01T14:15:16.879837Z",
     "start_time": "2022-12-01T14:15:16.859248Z"
    }
   },
   "outputs": [],
   "source": [
    "def load_shard_on_line(shard, test_size=0.2, max_items_per_class= 5000):\n",
    "    \n",
    "    path_yaml= \"./categories.yaml\"\n",
    "    with open(path_yaml) as f:\n",
    "        class_names = yaml.load(f, Loader=SafeLoader)\n",
    "    \n",
    "    root = 'gs://quickdraw_dataset/full/numpy_bitmap/'\n",
    "    all_files=[]\n",
    "    for class_name in class_names:\n",
    "        all_files.append(root + f'{class_name}' + '.npy')\n",
    "\n",
    "    #initialize variables \n",
    "    X = np.empty([0, 784])\n",
    "    y = np.empty([0])\n",
    "    class_names = []\n",
    "\n",
    "    #load a subset of the data to memory \n",
    "    for idx, file in enumerate(sorted(all_files)):\n",
    "        print(file)\n",
    "        f = io.BytesIO(file_io.read_file_to_string(file, binary_mode=True))\n",
    "        data = np.load(f)\n",
    "        data = data[shard*max_items_per_class: (shard+1)*max_items_per_class, :]\n",
    "        labels = np.full(data.shape[0], idx)\n",
    "\n",
    "        X = np.concatenate((X, data), axis=0)\n",
    "        y = np.append(y, labels)\n",
    "\n",
    "        class_name, ext = os.path.splitext(os.path.basename(file))\n",
    "        class_names.append(class_name.replace(\"full_numpy_bitmap_\", \"\").replace(\".npy\", \"\"))\n",
    "\n",
    "    data = None\n",
    "    labels = None\n",
    "\n",
    "    #shuffle (to be sure)\n",
    "    permutation = np.random.permutation(y.shape[0])\n",
    "    X = X[permutation, :]\n",
    "    y = y[permutation]\n",
    "    \n",
    "    #separate into training and testing\n",
    "    X_train, X_test, y_train, y_test = train_test_split(X, y, test_size=test_size, shuffle=True)\n",
    "\n",
    "    return X_train.astype(int), X_test.astype(int), y_train.astype(int), y_test.astype(int), class_names"
   ]
  },
  {
   "cell_type": "code",
   "execution_count": 13,
   "id": "26ee4e79",
   "metadata": {
    "ExecuteTime": {
     "end_time": "2022-12-01T14:28:15.083802Z",
     "start_time": "2022-12-01T14:28:15.074483Z"
    }
   },
   "outputs": [],
   "source": [
    "def load_shard(root, shard, test_size=0.2, max_items_per_class= 5000):\n",
    "    \n",
    "    all_files = glob.glob(os.path.join(root, '*.npy'))\n",
    "\n",
    "    #initialize variables \n",
    "    X = np.empty([0, 784])\n",
    "    y = np.empty([0])\n",
    "    class_names = []\n",
    "\n",
    "    #load a subset of the data to memory \n",
    "    for idx, file in enumerate(sorted(all_files)):\n",
    "        print(file)\n",
    "        data = np.load(file)\n",
    "        data = data[shard*max_items_per_class: (shard+1)*max_items_per_class, :]\n",
    "        labels = np.full(data.shape[0], idx)\n",
    "\n",
    "        X = np.concatenate((X, data), axis=0)\n",
    "        y = np.append(y, labels)\n",
    "\n",
    "        class_name, ext = os.path.splitext(os.path.basename(file))\n",
    "        class_names.append(class_name.replace(\"full_numpy_bitmap_\", \"\").replace(\".npy\", \"\"))\n",
    "\n",
    "    data = None\n",
    "    labels = None\n",
    "\n",
    "    #shuffle (to be sure)\n",
    "    permutation = np.random.permutation(y.shape[0])\n",
    "    X = X[permutation, :]\n",
    "    y = y[permutation]\n",
    "    \n",
    "    #separate into training and testing\n",
    "    X_train, X_test, y_train, y_test = train_test_split(X, y, test_size=test_size, shuffle=True)\n",
    "\n",
    "    return X_train.astype(int), X_test.astype(int), y_train.astype(int), y_test.astype(int), class_names"
   ]
  },
  {
   "cell_type": "code",
   "execution_count": null,
   "id": "61de7d8b",
   "metadata": {
    "ExecuteTime": {
     "start_time": "2022-12-01T14:01:13.304Z"
    }
   },
   "outputs": [
    {
     "name": "stdout",
     "output_type": "stream",
     "text": [
      "0\n",
      "gs://quickdraw_dataset/full/numpy_bitmap/angel.npy\n",
      "gs://quickdraw_dataset/full/numpy_bitmap/ant.npy\n",
      "gs://quickdraw_dataset/full/numpy_bitmap/axe.npy\n",
      "gs://quickdraw_dataset/full/numpy_bitmap/basketball.npy\n",
      "gs://quickdraw_dataset/full/numpy_bitmap/bathtub.npy\n"
     ]
    }
   ],
   "source": [
    "for shard in range(10):\n",
    "    print(shard)\n",
    "    X_train, X_test, y_train, y_test, class_names = load_shard_on_line(shard, test_size=0.2, max_items_per_class=10000)\n",
    "    X_train = X_train.reshape(-1,28,28,1)\n",
    "    X_test = X_test.reshape(-1,28,28,1)  \n",
    "    y_train = y_train.reshape(-1,1)\n",
    "    y_test = y_test.reshape(-1,1)\n",
    "    write_images_to_tfr_short(X_train, y_train, filename=f\"./tfrecords/shard_{shard}_train\")\n",
    "    write_images_to_tfr_short(X_test, y_test, filename=f\"./tfrecords/shard_{shard}_test\")"
   ]
  },
  {
   "cell_type": "code",
   "execution_count": 15,
   "id": "3d11d94c",
   "metadata": {
    "ExecuteTime": {
     "end_time": "2022-12-01T15:42:31.656501Z",
     "start_time": "2022-12-01T14:32:32.539951Z"
    }
   },
   "outputs": [
    {
     "name": "stdout",
     "output_type": "stream",
     "text": [
      "0\n",
      "./npy/full_numpy_bitmap_angel.npy\n",
      "./npy/full_numpy_bitmap_ant.npy\n",
      "./npy/full_numpy_bitmap_axe.npy\n",
      "./npy/full_numpy_bitmap_basketball.npy\n",
      "./npy/full_numpy_bitmap_bathtub.npy\n",
      "./npy/full_numpy_bitmap_bear.npy\n",
      "./npy/full_numpy_bitmap_bed.npy\n",
      "./npy/full_numpy_bitmap_brain.npy\n",
      "./npy/full_numpy_bitmap_bridge.npy\n",
      "./npy/full_numpy_bitmap_cactus.npy\n",
      "./npy/full_numpy_bitmap_calculator.npy\n",
      "./npy/full_numpy_bitmap_camel.npy\n",
      "./npy/full_numpy_bitmap_camera.npy\n",
      "./npy/full_numpy_bitmap_car.npy\n",
      "./npy/full_numpy_bitmap_carrot.npy\n",
      "./npy/full_numpy_bitmap_castle.npy\n",
      "./npy/full_numpy_bitmap_cat.npy\n",
      "./npy/full_numpy_bitmap_church.npy\n",
      "./npy/full_numpy_bitmap_circle.npy\n",
      "./npy/full_numpy_bitmap_cloud.npy\n",
      "./npy/full_numpy_bitmap_coffee cup.npy\n",
      "./npy/full_numpy_bitmap_couch.npy\n",
      "./npy/full_numpy_bitmap_cow.npy\n",
      "./npy/full_numpy_bitmap_crayon.npy\n",
      "./npy/full_numpy_bitmap_crocodile.npy\n",
      "./npy/full_numpy_bitmap_crown.npy\n",
      "./npy/full_numpy_bitmap_diamond.npy\n",
      "./npy/full_numpy_bitmap_dog.npy\n",
      "./npy/full_numpy_bitmap_dolphin.npy\n",
      "./npy/full_numpy_bitmap_door.npy\n",
      "./npy/full_numpy_bitmap_elephant.npy\n",
      "./npy/full_numpy_bitmap_eye.npy\n",
      "./npy/full_numpy_bitmap_fish.npy\n",
      "./npy/full_numpy_bitmap_flamingo.npy\n",
      "./npy/full_numpy_bitmap_flower.npy\n",
      "./npy/full_numpy_bitmap_fork.npy\n",
      "./npy/full_numpy_bitmap_frog.npy\n",
      "./npy/full_numpy_bitmap_giraffe.npy\n",
      "./npy/full_numpy_bitmap_guitar.npy\n",
      "./npy/full_numpy_bitmap_hamburger.npy\n",
      "./npy/full_numpy_bitmap_hammer.npy\n",
      "./npy/full_numpy_bitmap_hand.npy\n",
      "./npy/full_numpy_bitmap_harp.npy\n",
      "./npy/full_numpy_bitmap_hat.npy\n",
      "./npy/full_numpy_bitmap_hedgehog.npy\n",
      "./npy/full_numpy_bitmap_helicopter.npy\n",
      "./npy/full_numpy_bitmap_horse.npy\n",
      "./npy/full_numpy_bitmap_leaf.npy\n",
      "./npy/full_numpy_bitmap_line.npy\n",
      "./npy/full_numpy_bitmap_lion.npy\n",
      "./npy/full_numpy_bitmap_lobster.npy\n",
      "./npy/full_numpy_bitmap_mailbox.npy\n",
      "./npy/full_numpy_bitmap_matches.npy\n",
      "./npy/full_numpy_bitmap_motorbike.npy\n",
      "./npy/full_numpy_bitmap_mountain.npy\n",
      "./npy/full_numpy_bitmap_mouse.npy\n",
      "./npy/full_numpy_bitmap_mouth.npy\n",
      "./npy/full_numpy_bitmap_mushroom.npy\n",
      "./npy/full_numpy_bitmap_pants.npy\n",
      "./npy/full_numpy_bitmap_paper clip.npy\n",
      "./npy/full_numpy_bitmap_parachute.npy\n",
      "./npy/full_numpy_bitmap_pear.npy\n",
      "./npy/full_numpy_bitmap_peas.npy\n",
      "./npy/full_numpy_bitmap_pig.npy\n",
      "./npy/full_numpy_bitmap_pineapple.npy\n",
      "./npy/full_numpy_bitmap_pizza.npy\n",
      "./npy/full_numpy_bitmap_rabbit.npy\n",
      "./npy/full_numpy_bitmap_rain.npy\n",
      "./npy/full_numpy_bitmap_rainbow.npy\n",
      "./npy/full_numpy_bitmap_river.npy\n",
      "./npy/full_numpy_bitmap_roller coaster.npy\n",
      "./npy/full_numpy_bitmap_scorpion.npy\n",
      "./npy/full_numpy_bitmap_shoe.npy\n",
      "./npy/full_numpy_bitmap_skull.npy\n",
      "./npy/full_numpy_bitmap_snail.npy\n",
      "./npy/full_numpy_bitmap_snake.npy\n",
      "./npy/full_numpy_bitmap_snowflake.npy\n",
      "./npy/full_numpy_bitmap_spider.npy\n",
      "./npy/full_numpy_bitmap_spoon.npy\n",
      "./npy/full_numpy_bitmap_square.npy\n",
      "./npy/full_numpy_bitmap_stairs.npy\n",
      "./npy/full_numpy_bitmap_star.npy\n",
      "./npy/full_numpy_bitmap_stethoscope.npy\n",
      "./npy/full_numpy_bitmap_strawberry.npy\n",
      "./npy/full_numpy_bitmap_sun.npy\n",
      "./npy/full_numpy_bitmap_sword.npy\n",
      "./npy/full_numpy_bitmap_t-shirt.npy\n",
      "./npy/full_numpy_bitmap_table.npy\n",
      "./npy/full_numpy_bitmap_telephone.npy\n",
      "./npy/full_numpy_bitmap_television.npy\n",
      "./npy/full_numpy_bitmap_tiger.npy\n",
      "./npy/full_numpy_bitmap_toilet.npy\n",
      "./npy/full_numpy_bitmap_tooth.npy\n",
      "./npy/full_numpy_bitmap_tornado.npy\n",
      "./npy/full_numpy_bitmap_traffic light.npy\n",
      "./npy/full_numpy_bitmap_umbrella.npy\n",
      "./npy/full_numpy_bitmap_violin.npy\n",
      "./npy/full_numpy_bitmap_whale.npy\n",
      "./npy/full_numpy_bitmap_wheel.npy\n",
      "./npy/full_numpy_bitmap_windmill.npy\n",
      "Wrote 800000 elements to TFRecord\n",
      "Wrote 200000 elements to TFRecord\n",
      "1\n",
      "./npy/full_numpy_bitmap_angel.npy\n",
      "./npy/full_numpy_bitmap_ant.npy\n",
      "./npy/full_numpy_bitmap_axe.npy\n",
      "./npy/full_numpy_bitmap_basketball.npy\n",
      "./npy/full_numpy_bitmap_bathtub.npy\n",
      "./npy/full_numpy_bitmap_bear.npy\n",
      "./npy/full_numpy_bitmap_bed.npy\n",
      "./npy/full_numpy_bitmap_brain.npy\n",
      "./npy/full_numpy_bitmap_bridge.npy\n",
      "./npy/full_numpy_bitmap_cactus.npy\n",
      "./npy/full_numpy_bitmap_calculator.npy\n",
      "./npy/full_numpy_bitmap_camel.npy\n",
      "./npy/full_numpy_bitmap_camera.npy\n",
      "./npy/full_numpy_bitmap_car.npy\n",
      "./npy/full_numpy_bitmap_carrot.npy\n",
      "./npy/full_numpy_bitmap_castle.npy\n",
      "./npy/full_numpy_bitmap_cat.npy\n",
      "./npy/full_numpy_bitmap_church.npy\n",
      "./npy/full_numpy_bitmap_circle.npy\n",
      "./npy/full_numpy_bitmap_cloud.npy\n",
      "./npy/full_numpy_bitmap_coffee cup.npy\n",
      "./npy/full_numpy_bitmap_couch.npy\n",
      "./npy/full_numpy_bitmap_cow.npy\n",
      "./npy/full_numpy_bitmap_crayon.npy\n",
      "./npy/full_numpy_bitmap_crocodile.npy\n",
      "./npy/full_numpy_bitmap_crown.npy\n",
      "./npy/full_numpy_bitmap_diamond.npy\n",
      "./npy/full_numpy_bitmap_dog.npy\n",
      "./npy/full_numpy_bitmap_dolphin.npy\n",
      "./npy/full_numpy_bitmap_door.npy\n",
      "./npy/full_numpy_bitmap_elephant.npy\n",
      "./npy/full_numpy_bitmap_eye.npy\n",
      "./npy/full_numpy_bitmap_fish.npy\n",
      "./npy/full_numpy_bitmap_flamingo.npy\n",
      "./npy/full_numpy_bitmap_flower.npy\n",
      "./npy/full_numpy_bitmap_fork.npy\n",
      "./npy/full_numpy_bitmap_frog.npy\n",
      "./npy/full_numpy_bitmap_giraffe.npy\n",
      "./npy/full_numpy_bitmap_guitar.npy\n",
      "./npy/full_numpy_bitmap_hamburger.npy\n",
      "./npy/full_numpy_bitmap_hammer.npy\n",
      "./npy/full_numpy_bitmap_hand.npy\n",
      "./npy/full_numpy_bitmap_harp.npy\n",
      "./npy/full_numpy_bitmap_hat.npy\n",
      "./npy/full_numpy_bitmap_hedgehog.npy\n",
      "./npy/full_numpy_bitmap_helicopter.npy\n",
      "./npy/full_numpy_bitmap_horse.npy\n",
      "./npy/full_numpy_bitmap_leaf.npy\n",
      "./npy/full_numpy_bitmap_line.npy\n",
      "./npy/full_numpy_bitmap_lion.npy\n",
      "./npy/full_numpy_bitmap_lobster.npy\n",
      "./npy/full_numpy_bitmap_mailbox.npy\n",
      "./npy/full_numpy_bitmap_matches.npy\n",
      "./npy/full_numpy_bitmap_motorbike.npy\n",
      "./npy/full_numpy_bitmap_mountain.npy\n",
      "./npy/full_numpy_bitmap_mouse.npy\n",
      "./npy/full_numpy_bitmap_mouth.npy\n",
      "./npy/full_numpy_bitmap_mushroom.npy\n",
      "./npy/full_numpy_bitmap_pants.npy\n",
      "./npy/full_numpy_bitmap_paper clip.npy\n",
      "./npy/full_numpy_bitmap_parachute.npy\n",
      "./npy/full_numpy_bitmap_pear.npy\n",
      "./npy/full_numpy_bitmap_peas.npy\n",
      "./npy/full_numpy_bitmap_pig.npy\n",
      "./npy/full_numpy_bitmap_pineapple.npy\n",
      "./npy/full_numpy_bitmap_pizza.npy\n",
      "./npy/full_numpy_bitmap_rabbit.npy\n",
      "./npy/full_numpy_bitmap_rain.npy\n",
      "./npy/full_numpy_bitmap_rainbow.npy\n",
      "./npy/full_numpy_bitmap_river.npy\n",
      "./npy/full_numpy_bitmap_roller coaster.npy\n",
      "./npy/full_numpy_bitmap_scorpion.npy\n",
      "./npy/full_numpy_bitmap_shoe.npy\n",
      "./npy/full_numpy_bitmap_skull.npy\n",
      "./npy/full_numpy_bitmap_snail.npy\n",
      "./npy/full_numpy_bitmap_snake.npy\n",
      "./npy/full_numpy_bitmap_snowflake.npy\n",
      "./npy/full_numpy_bitmap_spider.npy\n",
      "./npy/full_numpy_bitmap_spoon.npy\n",
      "./npy/full_numpy_bitmap_square.npy\n",
      "./npy/full_numpy_bitmap_stairs.npy\n",
      "./npy/full_numpy_bitmap_star.npy\n",
      "./npy/full_numpy_bitmap_stethoscope.npy\n",
      "./npy/full_numpy_bitmap_strawberry.npy\n",
      "./npy/full_numpy_bitmap_sun.npy\n",
      "./npy/full_numpy_bitmap_sword.npy\n",
      "./npy/full_numpy_bitmap_t-shirt.npy\n",
      "./npy/full_numpy_bitmap_table.npy\n",
      "./npy/full_numpy_bitmap_telephone.npy\n",
      "./npy/full_numpy_bitmap_television.npy\n",
      "./npy/full_numpy_bitmap_tiger.npy\n",
      "./npy/full_numpy_bitmap_toilet.npy\n",
      "./npy/full_numpy_bitmap_tooth.npy\n",
      "./npy/full_numpy_bitmap_tornado.npy\n",
      "./npy/full_numpy_bitmap_traffic light.npy\n",
      "./npy/full_numpy_bitmap_umbrella.npy\n",
      "./npy/full_numpy_bitmap_violin.npy\n",
      "./npy/full_numpy_bitmap_whale.npy\n",
      "./npy/full_numpy_bitmap_wheel.npy\n",
      "./npy/full_numpy_bitmap_windmill.npy\n",
      "Wrote 800000 elements to TFRecord\n",
      "Wrote 200000 elements to TFRecord\n",
      "2\n",
      "./npy/full_numpy_bitmap_angel.npy\n",
      "./npy/full_numpy_bitmap_ant.npy\n",
      "./npy/full_numpy_bitmap_axe.npy\n",
      "./npy/full_numpy_bitmap_basketball.npy\n",
      "./npy/full_numpy_bitmap_bathtub.npy\n",
      "./npy/full_numpy_bitmap_bear.npy\n",
      "./npy/full_numpy_bitmap_bed.npy\n",
      "./npy/full_numpy_bitmap_brain.npy\n",
      "./npy/full_numpy_bitmap_bridge.npy\n",
      "./npy/full_numpy_bitmap_cactus.npy\n",
      "./npy/full_numpy_bitmap_calculator.npy\n",
      "./npy/full_numpy_bitmap_camel.npy\n",
      "./npy/full_numpy_bitmap_camera.npy\n",
      "./npy/full_numpy_bitmap_car.npy\n",
      "./npy/full_numpy_bitmap_carrot.npy\n",
      "./npy/full_numpy_bitmap_castle.npy\n",
      "./npy/full_numpy_bitmap_cat.npy\n",
      "./npy/full_numpy_bitmap_church.npy\n",
      "./npy/full_numpy_bitmap_circle.npy\n",
      "./npy/full_numpy_bitmap_cloud.npy\n",
      "./npy/full_numpy_bitmap_coffee cup.npy\n",
      "./npy/full_numpy_bitmap_couch.npy\n",
      "./npy/full_numpy_bitmap_cow.npy\n",
      "./npy/full_numpy_bitmap_crayon.npy\n",
      "./npy/full_numpy_bitmap_crocodile.npy\n",
      "./npy/full_numpy_bitmap_crown.npy\n",
      "./npy/full_numpy_bitmap_diamond.npy\n",
      "./npy/full_numpy_bitmap_dog.npy\n",
      "./npy/full_numpy_bitmap_dolphin.npy\n",
      "./npy/full_numpy_bitmap_door.npy\n"
     ]
    },
    {
     "name": "stdout",
     "output_type": "stream",
     "text": [
      "./npy/full_numpy_bitmap_elephant.npy\n",
      "./npy/full_numpy_bitmap_eye.npy\n",
      "./npy/full_numpy_bitmap_fish.npy\n",
      "./npy/full_numpy_bitmap_flamingo.npy\n",
      "./npy/full_numpy_bitmap_flower.npy\n",
      "./npy/full_numpy_bitmap_fork.npy\n",
      "./npy/full_numpy_bitmap_frog.npy\n",
      "./npy/full_numpy_bitmap_giraffe.npy\n",
      "./npy/full_numpy_bitmap_guitar.npy\n",
      "./npy/full_numpy_bitmap_hamburger.npy\n",
      "./npy/full_numpy_bitmap_hammer.npy\n",
      "./npy/full_numpy_bitmap_hand.npy\n",
      "./npy/full_numpy_bitmap_harp.npy\n",
      "./npy/full_numpy_bitmap_hat.npy\n",
      "./npy/full_numpy_bitmap_hedgehog.npy\n",
      "./npy/full_numpy_bitmap_helicopter.npy\n",
      "./npy/full_numpy_bitmap_horse.npy\n",
      "./npy/full_numpy_bitmap_leaf.npy\n",
      "./npy/full_numpy_bitmap_line.npy\n",
      "./npy/full_numpy_bitmap_lion.npy\n",
      "./npy/full_numpy_bitmap_lobster.npy\n",
      "./npy/full_numpy_bitmap_mailbox.npy\n",
      "./npy/full_numpy_bitmap_matches.npy\n",
      "./npy/full_numpy_bitmap_motorbike.npy\n",
      "./npy/full_numpy_bitmap_mountain.npy\n",
      "./npy/full_numpy_bitmap_mouse.npy\n",
      "./npy/full_numpy_bitmap_mouth.npy\n",
      "./npy/full_numpy_bitmap_mushroom.npy\n",
      "./npy/full_numpy_bitmap_pants.npy\n",
      "./npy/full_numpy_bitmap_paper clip.npy\n",
      "./npy/full_numpy_bitmap_parachute.npy\n",
      "./npy/full_numpy_bitmap_pear.npy\n",
      "./npy/full_numpy_bitmap_peas.npy\n",
      "./npy/full_numpy_bitmap_pig.npy\n",
      "./npy/full_numpy_bitmap_pineapple.npy\n",
      "./npy/full_numpy_bitmap_pizza.npy\n",
      "./npy/full_numpy_bitmap_rabbit.npy\n",
      "./npy/full_numpy_bitmap_rain.npy\n",
      "./npy/full_numpy_bitmap_rainbow.npy\n",
      "./npy/full_numpy_bitmap_river.npy\n",
      "./npy/full_numpy_bitmap_roller coaster.npy\n",
      "./npy/full_numpy_bitmap_scorpion.npy\n",
      "./npy/full_numpy_bitmap_shoe.npy\n",
      "./npy/full_numpy_bitmap_skull.npy\n",
      "./npy/full_numpy_bitmap_snail.npy\n",
      "./npy/full_numpy_bitmap_snake.npy\n",
      "./npy/full_numpy_bitmap_snowflake.npy\n",
      "./npy/full_numpy_bitmap_spider.npy\n",
      "./npy/full_numpy_bitmap_spoon.npy\n",
      "./npy/full_numpy_bitmap_square.npy\n",
      "./npy/full_numpy_bitmap_stairs.npy\n",
      "./npy/full_numpy_bitmap_star.npy\n",
      "./npy/full_numpy_bitmap_stethoscope.npy\n",
      "./npy/full_numpy_bitmap_strawberry.npy\n",
      "./npy/full_numpy_bitmap_sun.npy\n",
      "./npy/full_numpy_bitmap_sword.npy\n",
      "./npy/full_numpy_bitmap_t-shirt.npy\n",
      "./npy/full_numpy_bitmap_table.npy\n",
      "./npy/full_numpy_bitmap_telephone.npy\n",
      "./npy/full_numpy_bitmap_television.npy\n",
      "./npy/full_numpy_bitmap_tiger.npy\n",
      "./npy/full_numpy_bitmap_toilet.npy\n",
      "./npy/full_numpy_bitmap_tooth.npy\n",
      "./npy/full_numpy_bitmap_tornado.npy\n",
      "./npy/full_numpy_bitmap_traffic light.npy\n",
      "./npy/full_numpy_bitmap_umbrella.npy\n",
      "./npy/full_numpy_bitmap_violin.npy\n",
      "./npy/full_numpy_bitmap_whale.npy\n",
      "./npy/full_numpy_bitmap_wheel.npy\n",
      "./npy/full_numpy_bitmap_windmill.npy\n",
      "Wrote 800000 elements to TFRecord\n",
      "Wrote 200000 elements to TFRecord\n",
      "3\n",
      "./npy/full_numpy_bitmap_angel.npy\n",
      "./npy/full_numpy_bitmap_ant.npy\n",
      "./npy/full_numpy_bitmap_axe.npy\n",
      "./npy/full_numpy_bitmap_basketball.npy\n",
      "./npy/full_numpy_bitmap_bathtub.npy\n",
      "./npy/full_numpy_bitmap_bear.npy\n",
      "./npy/full_numpy_bitmap_bed.npy\n",
      "./npy/full_numpy_bitmap_brain.npy\n",
      "./npy/full_numpy_bitmap_bridge.npy\n",
      "./npy/full_numpy_bitmap_cactus.npy\n",
      "./npy/full_numpy_bitmap_calculator.npy\n",
      "./npy/full_numpy_bitmap_camel.npy\n",
      "./npy/full_numpy_bitmap_camera.npy\n",
      "./npy/full_numpy_bitmap_car.npy\n",
      "./npy/full_numpy_bitmap_carrot.npy\n",
      "./npy/full_numpy_bitmap_castle.npy\n",
      "./npy/full_numpy_bitmap_cat.npy\n",
      "./npy/full_numpy_bitmap_church.npy\n",
      "./npy/full_numpy_bitmap_circle.npy\n",
      "./npy/full_numpy_bitmap_cloud.npy\n",
      "./npy/full_numpy_bitmap_coffee cup.npy\n",
      "./npy/full_numpy_bitmap_couch.npy\n",
      "./npy/full_numpy_bitmap_cow.npy\n",
      "./npy/full_numpy_bitmap_crayon.npy\n",
      "./npy/full_numpy_bitmap_crocodile.npy\n",
      "./npy/full_numpy_bitmap_crown.npy\n",
      "./npy/full_numpy_bitmap_diamond.npy\n",
      "./npy/full_numpy_bitmap_dog.npy\n",
      "./npy/full_numpy_bitmap_dolphin.npy\n",
      "./npy/full_numpy_bitmap_door.npy\n",
      "./npy/full_numpy_bitmap_elephant.npy\n",
      "./npy/full_numpy_bitmap_eye.npy\n",
      "./npy/full_numpy_bitmap_fish.npy\n",
      "./npy/full_numpy_bitmap_flamingo.npy\n",
      "./npy/full_numpy_bitmap_flower.npy\n",
      "./npy/full_numpy_bitmap_fork.npy\n",
      "./npy/full_numpy_bitmap_frog.npy\n",
      "./npy/full_numpy_bitmap_giraffe.npy\n",
      "./npy/full_numpy_bitmap_guitar.npy\n",
      "./npy/full_numpy_bitmap_hamburger.npy\n",
      "./npy/full_numpy_bitmap_hammer.npy\n",
      "./npy/full_numpy_bitmap_hand.npy\n",
      "./npy/full_numpy_bitmap_harp.npy\n",
      "./npy/full_numpy_bitmap_hat.npy\n",
      "./npy/full_numpy_bitmap_hedgehog.npy\n",
      "./npy/full_numpy_bitmap_helicopter.npy\n",
      "./npy/full_numpy_bitmap_horse.npy\n",
      "./npy/full_numpy_bitmap_leaf.npy\n",
      "./npy/full_numpy_bitmap_line.npy\n",
      "./npy/full_numpy_bitmap_lion.npy\n",
      "./npy/full_numpy_bitmap_lobster.npy\n",
      "./npy/full_numpy_bitmap_mailbox.npy\n",
      "./npy/full_numpy_bitmap_matches.npy\n",
      "./npy/full_numpy_bitmap_motorbike.npy\n",
      "./npy/full_numpy_bitmap_mountain.npy\n",
      "./npy/full_numpy_bitmap_mouse.npy\n",
      "./npy/full_numpy_bitmap_mouth.npy\n",
      "./npy/full_numpy_bitmap_mushroom.npy\n",
      "./npy/full_numpy_bitmap_pants.npy\n",
      "./npy/full_numpy_bitmap_paper clip.npy\n",
      "./npy/full_numpy_bitmap_parachute.npy\n",
      "./npy/full_numpy_bitmap_pear.npy\n",
      "./npy/full_numpy_bitmap_peas.npy\n",
      "./npy/full_numpy_bitmap_pig.npy\n",
      "./npy/full_numpy_bitmap_pineapple.npy\n",
      "./npy/full_numpy_bitmap_pizza.npy\n",
      "./npy/full_numpy_bitmap_rabbit.npy\n",
      "./npy/full_numpy_bitmap_rain.npy\n",
      "./npy/full_numpy_bitmap_rainbow.npy\n",
      "./npy/full_numpy_bitmap_river.npy\n",
      "./npy/full_numpy_bitmap_roller coaster.npy\n",
      "./npy/full_numpy_bitmap_scorpion.npy\n",
      "./npy/full_numpy_bitmap_shoe.npy\n",
      "./npy/full_numpy_bitmap_skull.npy\n",
      "./npy/full_numpy_bitmap_snail.npy\n",
      "./npy/full_numpy_bitmap_snake.npy\n",
      "./npy/full_numpy_bitmap_snowflake.npy\n",
      "./npy/full_numpy_bitmap_spider.npy\n",
      "./npy/full_numpy_bitmap_spoon.npy\n",
      "./npy/full_numpy_bitmap_square.npy\n",
      "./npy/full_numpy_bitmap_stairs.npy\n",
      "./npy/full_numpy_bitmap_star.npy\n",
      "./npy/full_numpy_bitmap_stethoscope.npy\n",
      "./npy/full_numpy_bitmap_strawberry.npy\n",
      "./npy/full_numpy_bitmap_sun.npy\n",
      "./npy/full_numpy_bitmap_sword.npy\n",
      "./npy/full_numpy_bitmap_t-shirt.npy\n",
      "./npy/full_numpy_bitmap_table.npy\n",
      "./npy/full_numpy_bitmap_telephone.npy\n",
      "./npy/full_numpy_bitmap_television.npy\n",
      "./npy/full_numpy_bitmap_tiger.npy\n",
      "./npy/full_numpy_bitmap_toilet.npy\n",
      "./npy/full_numpy_bitmap_tooth.npy\n",
      "./npy/full_numpy_bitmap_tornado.npy\n",
      "./npy/full_numpy_bitmap_traffic light.npy\n",
      "./npy/full_numpy_bitmap_umbrella.npy\n",
      "./npy/full_numpy_bitmap_violin.npy\n",
      "./npy/full_numpy_bitmap_whale.npy\n",
      "./npy/full_numpy_bitmap_wheel.npy\n",
      "./npy/full_numpy_bitmap_windmill.npy\n",
      "Wrote 800000 elements to TFRecord\n",
      "Wrote 200000 elements to TFRecord\n",
      "4\n",
      "./npy/full_numpy_bitmap_angel.npy\n",
      "./npy/full_numpy_bitmap_ant.npy\n",
      "./npy/full_numpy_bitmap_axe.npy\n",
      "./npy/full_numpy_bitmap_basketball.npy\n",
      "./npy/full_numpy_bitmap_bathtub.npy\n",
      "./npy/full_numpy_bitmap_bear.npy\n",
      "./npy/full_numpy_bitmap_bed.npy\n",
      "./npy/full_numpy_bitmap_brain.npy\n",
      "./npy/full_numpy_bitmap_bridge.npy\n",
      "./npy/full_numpy_bitmap_cactus.npy\n",
      "./npy/full_numpy_bitmap_calculator.npy\n",
      "./npy/full_numpy_bitmap_camel.npy\n",
      "./npy/full_numpy_bitmap_camera.npy\n",
      "./npy/full_numpy_bitmap_car.npy\n",
      "./npy/full_numpy_bitmap_carrot.npy\n",
      "./npy/full_numpy_bitmap_castle.npy\n",
      "./npy/full_numpy_bitmap_cat.npy\n",
      "./npy/full_numpy_bitmap_church.npy\n",
      "./npy/full_numpy_bitmap_circle.npy\n",
      "./npy/full_numpy_bitmap_cloud.npy\n",
      "./npy/full_numpy_bitmap_coffee cup.npy\n",
      "./npy/full_numpy_bitmap_couch.npy\n",
      "./npy/full_numpy_bitmap_cow.npy\n",
      "./npy/full_numpy_bitmap_crayon.npy\n",
      "./npy/full_numpy_bitmap_crocodile.npy\n",
      "./npy/full_numpy_bitmap_crown.npy\n",
      "./npy/full_numpy_bitmap_diamond.npy\n",
      "./npy/full_numpy_bitmap_dog.npy\n",
      "./npy/full_numpy_bitmap_dolphin.npy\n",
      "./npy/full_numpy_bitmap_door.npy\n",
      "./npy/full_numpy_bitmap_elephant.npy\n",
      "./npy/full_numpy_bitmap_eye.npy\n",
      "./npy/full_numpy_bitmap_fish.npy\n",
      "./npy/full_numpy_bitmap_flamingo.npy\n",
      "./npy/full_numpy_bitmap_flower.npy\n",
      "./npy/full_numpy_bitmap_fork.npy\n",
      "./npy/full_numpy_bitmap_frog.npy\n",
      "./npy/full_numpy_bitmap_giraffe.npy\n",
      "./npy/full_numpy_bitmap_guitar.npy\n",
      "./npy/full_numpy_bitmap_hamburger.npy\n",
      "./npy/full_numpy_bitmap_hammer.npy\n",
      "./npy/full_numpy_bitmap_hand.npy\n",
      "./npy/full_numpy_bitmap_harp.npy\n",
      "./npy/full_numpy_bitmap_hat.npy\n",
      "./npy/full_numpy_bitmap_hedgehog.npy\n",
      "./npy/full_numpy_bitmap_helicopter.npy\n",
      "./npy/full_numpy_bitmap_horse.npy\n",
      "./npy/full_numpy_bitmap_leaf.npy\n",
      "./npy/full_numpy_bitmap_line.npy\n",
      "./npy/full_numpy_bitmap_lion.npy\n",
      "./npy/full_numpy_bitmap_lobster.npy\n",
      "./npy/full_numpy_bitmap_mailbox.npy\n",
      "./npy/full_numpy_bitmap_matches.npy\n",
      "./npy/full_numpy_bitmap_motorbike.npy\n",
      "./npy/full_numpy_bitmap_mountain.npy\n",
      "./npy/full_numpy_bitmap_mouse.npy\n",
      "./npy/full_numpy_bitmap_mouth.npy\n",
      "./npy/full_numpy_bitmap_mushroom.npy\n",
      "./npy/full_numpy_bitmap_pants.npy\n",
      "./npy/full_numpy_bitmap_paper clip.npy\n"
     ]
    },
    {
     "name": "stdout",
     "output_type": "stream",
     "text": [
      "./npy/full_numpy_bitmap_parachute.npy\n",
      "./npy/full_numpy_bitmap_pear.npy\n",
      "./npy/full_numpy_bitmap_peas.npy\n",
      "./npy/full_numpy_bitmap_pig.npy\n",
      "./npy/full_numpy_bitmap_pineapple.npy\n",
      "./npy/full_numpy_bitmap_pizza.npy\n",
      "./npy/full_numpy_bitmap_rabbit.npy\n",
      "./npy/full_numpy_bitmap_rain.npy\n",
      "./npy/full_numpy_bitmap_rainbow.npy\n",
      "./npy/full_numpy_bitmap_river.npy\n",
      "./npy/full_numpy_bitmap_roller coaster.npy\n",
      "./npy/full_numpy_bitmap_scorpion.npy\n",
      "./npy/full_numpy_bitmap_shoe.npy\n",
      "./npy/full_numpy_bitmap_skull.npy\n",
      "./npy/full_numpy_bitmap_snail.npy\n",
      "./npy/full_numpy_bitmap_snake.npy\n",
      "./npy/full_numpy_bitmap_snowflake.npy\n",
      "./npy/full_numpy_bitmap_spider.npy\n",
      "./npy/full_numpy_bitmap_spoon.npy\n",
      "./npy/full_numpy_bitmap_square.npy\n",
      "./npy/full_numpy_bitmap_stairs.npy\n",
      "./npy/full_numpy_bitmap_star.npy\n",
      "./npy/full_numpy_bitmap_stethoscope.npy\n",
      "./npy/full_numpy_bitmap_strawberry.npy\n",
      "./npy/full_numpy_bitmap_sun.npy\n",
      "./npy/full_numpy_bitmap_sword.npy\n",
      "./npy/full_numpy_bitmap_t-shirt.npy\n",
      "./npy/full_numpy_bitmap_table.npy\n",
      "./npy/full_numpy_bitmap_telephone.npy\n",
      "./npy/full_numpy_bitmap_television.npy\n",
      "./npy/full_numpy_bitmap_tiger.npy\n",
      "./npy/full_numpy_bitmap_toilet.npy\n",
      "./npy/full_numpy_bitmap_tooth.npy\n",
      "./npy/full_numpy_bitmap_tornado.npy\n",
      "./npy/full_numpy_bitmap_traffic light.npy\n",
      "./npy/full_numpy_bitmap_umbrella.npy\n",
      "./npy/full_numpy_bitmap_violin.npy\n",
      "./npy/full_numpy_bitmap_whale.npy\n",
      "./npy/full_numpy_bitmap_wheel.npy\n",
      "./npy/full_numpy_bitmap_windmill.npy\n",
      "Wrote 800000 elements to TFRecord\n",
      "Wrote 200000 elements to TFRecord\n",
      "5\n",
      "./npy/full_numpy_bitmap_angel.npy\n",
      "./npy/full_numpy_bitmap_ant.npy\n",
      "./npy/full_numpy_bitmap_axe.npy\n",
      "./npy/full_numpy_bitmap_basketball.npy\n",
      "./npy/full_numpy_bitmap_bathtub.npy\n",
      "./npy/full_numpy_bitmap_bear.npy\n",
      "./npy/full_numpy_bitmap_bed.npy\n",
      "./npy/full_numpy_bitmap_brain.npy\n",
      "./npy/full_numpy_bitmap_bridge.npy\n",
      "./npy/full_numpy_bitmap_cactus.npy\n",
      "./npy/full_numpy_bitmap_calculator.npy\n",
      "./npy/full_numpy_bitmap_camel.npy\n",
      "./npy/full_numpy_bitmap_camera.npy\n",
      "./npy/full_numpy_bitmap_car.npy\n",
      "./npy/full_numpy_bitmap_carrot.npy\n",
      "./npy/full_numpy_bitmap_castle.npy\n",
      "./npy/full_numpy_bitmap_cat.npy\n",
      "./npy/full_numpy_bitmap_church.npy\n",
      "./npy/full_numpy_bitmap_circle.npy\n",
      "./npy/full_numpy_bitmap_cloud.npy\n",
      "./npy/full_numpy_bitmap_coffee cup.npy\n",
      "./npy/full_numpy_bitmap_couch.npy\n",
      "./npy/full_numpy_bitmap_cow.npy\n",
      "./npy/full_numpy_bitmap_crayon.npy\n",
      "./npy/full_numpy_bitmap_crocodile.npy\n",
      "./npy/full_numpy_bitmap_crown.npy\n",
      "./npy/full_numpy_bitmap_diamond.npy\n",
      "./npy/full_numpy_bitmap_dog.npy\n",
      "./npy/full_numpy_bitmap_dolphin.npy\n",
      "./npy/full_numpy_bitmap_door.npy\n",
      "./npy/full_numpy_bitmap_elephant.npy\n",
      "./npy/full_numpy_bitmap_eye.npy\n",
      "./npy/full_numpy_bitmap_fish.npy\n",
      "./npy/full_numpy_bitmap_flamingo.npy\n",
      "./npy/full_numpy_bitmap_flower.npy\n",
      "./npy/full_numpy_bitmap_fork.npy\n",
      "./npy/full_numpy_bitmap_frog.npy\n",
      "./npy/full_numpy_bitmap_giraffe.npy\n",
      "./npy/full_numpy_bitmap_guitar.npy\n",
      "./npy/full_numpy_bitmap_hamburger.npy\n",
      "./npy/full_numpy_bitmap_hammer.npy\n",
      "./npy/full_numpy_bitmap_hand.npy\n",
      "./npy/full_numpy_bitmap_harp.npy\n",
      "./npy/full_numpy_bitmap_hat.npy\n",
      "./npy/full_numpy_bitmap_hedgehog.npy\n",
      "./npy/full_numpy_bitmap_helicopter.npy\n",
      "./npy/full_numpy_bitmap_horse.npy\n",
      "./npy/full_numpy_bitmap_leaf.npy\n",
      "./npy/full_numpy_bitmap_line.npy\n",
      "./npy/full_numpy_bitmap_lion.npy\n",
      "./npy/full_numpy_bitmap_lobster.npy\n",
      "./npy/full_numpy_bitmap_mailbox.npy\n",
      "./npy/full_numpy_bitmap_matches.npy\n",
      "./npy/full_numpy_bitmap_motorbike.npy\n",
      "./npy/full_numpy_bitmap_mountain.npy\n",
      "./npy/full_numpy_bitmap_mouse.npy\n",
      "./npy/full_numpy_bitmap_mouth.npy\n",
      "./npy/full_numpy_bitmap_mushroom.npy\n",
      "./npy/full_numpy_bitmap_pants.npy\n",
      "./npy/full_numpy_bitmap_paper clip.npy\n",
      "./npy/full_numpy_bitmap_parachute.npy\n",
      "./npy/full_numpy_bitmap_pear.npy\n",
      "./npy/full_numpy_bitmap_peas.npy\n",
      "./npy/full_numpy_bitmap_pig.npy\n",
      "./npy/full_numpy_bitmap_pineapple.npy\n",
      "./npy/full_numpy_bitmap_pizza.npy\n",
      "./npy/full_numpy_bitmap_rabbit.npy\n",
      "./npy/full_numpy_bitmap_rain.npy\n",
      "./npy/full_numpy_bitmap_rainbow.npy\n",
      "./npy/full_numpy_bitmap_river.npy\n",
      "./npy/full_numpy_bitmap_roller coaster.npy\n",
      "./npy/full_numpy_bitmap_scorpion.npy\n",
      "./npy/full_numpy_bitmap_shoe.npy\n",
      "./npy/full_numpy_bitmap_skull.npy\n",
      "./npy/full_numpy_bitmap_snail.npy\n",
      "./npy/full_numpy_bitmap_snake.npy\n",
      "./npy/full_numpy_bitmap_snowflake.npy\n",
      "./npy/full_numpy_bitmap_spider.npy\n",
      "./npy/full_numpy_bitmap_spoon.npy\n",
      "./npy/full_numpy_bitmap_square.npy\n",
      "./npy/full_numpy_bitmap_stairs.npy\n",
      "./npy/full_numpy_bitmap_star.npy\n",
      "./npy/full_numpy_bitmap_stethoscope.npy\n",
      "./npy/full_numpy_bitmap_strawberry.npy\n",
      "./npy/full_numpy_bitmap_sun.npy\n",
      "./npy/full_numpy_bitmap_sword.npy\n",
      "./npy/full_numpy_bitmap_t-shirt.npy\n",
      "./npy/full_numpy_bitmap_table.npy\n",
      "./npy/full_numpy_bitmap_telephone.npy\n",
      "./npy/full_numpy_bitmap_television.npy\n",
      "./npy/full_numpy_bitmap_tiger.npy\n",
      "./npy/full_numpy_bitmap_toilet.npy\n",
      "./npy/full_numpy_bitmap_tooth.npy\n",
      "./npy/full_numpy_bitmap_tornado.npy\n",
      "./npy/full_numpy_bitmap_traffic light.npy\n",
      "./npy/full_numpy_bitmap_umbrella.npy\n",
      "./npy/full_numpy_bitmap_violin.npy\n",
      "./npy/full_numpy_bitmap_whale.npy\n",
      "./npy/full_numpy_bitmap_wheel.npy\n",
      "./npy/full_numpy_bitmap_windmill.npy\n",
      "Wrote 800000 elements to TFRecord\n",
      "Wrote 200000 elements to TFRecord\n",
      "6\n",
      "./npy/full_numpy_bitmap_angel.npy\n",
      "./npy/full_numpy_bitmap_ant.npy\n",
      "./npy/full_numpy_bitmap_axe.npy\n",
      "./npy/full_numpy_bitmap_basketball.npy\n",
      "./npy/full_numpy_bitmap_bathtub.npy\n",
      "./npy/full_numpy_bitmap_bear.npy\n",
      "./npy/full_numpy_bitmap_bed.npy\n",
      "./npy/full_numpy_bitmap_brain.npy\n",
      "./npy/full_numpy_bitmap_bridge.npy\n",
      "./npy/full_numpy_bitmap_cactus.npy\n",
      "./npy/full_numpy_bitmap_calculator.npy\n",
      "./npy/full_numpy_bitmap_camel.npy\n",
      "./npy/full_numpy_bitmap_camera.npy\n",
      "./npy/full_numpy_bitmap_car.npy\n",
      "./npy/full_numpy_bitmap_carrot.npy\n",
      "./npy/full_numpy_bitmap_castle.npy\n",
      "./npy/full_numpy_bitmap_cat.npy\n",
      "./npy/full_numpy_bitmap_church.npy\n",
      "./npy/full_numpy_bitmap_circle.npy\n",
      "./npy/full_numpy_bitmap_cloud.npy\n",
      "./npy/full_numpy_bitmap_coffee cup.npy\n",
      "./npy/full_numpy_bitmap_couch.npy\n",
      "./npy/full_numpy_bitmap_cow.npy\n",
      "./npy/full_numpy_bitmap_crayon.npy\n",
      "./npy/full_numpy_bitmap_crocodile.npy\n",
      "./npy/full_numpy_bitmap_crown.npy\n",
      "./npy/full_numpy_bitmap_diamond.npy\n",
      "./npy/full_numpy_bitmap_dog.npy\n",
      "./npy/full_numpy_bitmap_dolphin.npy\n",
      "./npy/full_numpy_bitmap_door.npy\n",
      "./npy/full_numpy_bitmap_elephant.npy\n",
      "./npy/full_numpy_bitmap_eye.npy\n",
      "./npy/full_numpy_bitmap_fish.npy\n",
      "./npy/full_numpy_bitmap_flamingo.npy\n",
      "./npy/full_numpy_bitmap_flower.npy\n",
      "./npy/full_numpy_bitmap_fork.npy\n",
      "./npy/full_numpy_bitmap_frog.npy\n",
      "./npy/full_numpy_bitmap_giraffe.npy\n",
      "./npy/full_numpy_bitmap_guitar.npy\n",
      "./npy/full_numpy_bitmap_hamburger.npy\n",
      "./npy/full_numpy_bitmap_hammer.npy\n",
      "./npy/full_numpy_bitmap_hand.npy\n",
      "./npy/full_numpy_bitmap_harp.npy\n",
      "./npy/full_numpy_bitmap_hat.npy\n",
      "./npy/full_numpy_bitmap_hedgehog.npy\n",
      "./npy/full_numpy_bitmap_helicopter.npy\n",
      "./npy/full_numpy_bitmap_horse.npy\n",
      "./npy/full_numpy_bitmap_leaf.npy\n",
      "./npy/full_numpy_bitmap_line.npy\n",
      "./npy/full_numpy_bitmap_lion.npy\n",
      "./npy/full_numpy_bitmap_lobster.npy\n",
      "./npy/full_numpy_bitmap_mailbox.npy\n",
      "./npy/full_numpy_bitmap_matches.npy\n",
      "./npy/full_numpy_bitmap_motorbike.npy\n",
      "./npy/full_numpy_bitmap_mountain.npy\n",
      "./npy/full_numpy_bitmap_mouse.npy\n",
      "./npy/full_numpy_bitmap_mouth.npy\n",
      "./npy/full_numpy_bitmap_mushroom.npy\n",
      "./npy/full_numpy_bitmap_pants.npy\n",
      "./npy/full_numpy_bitmap_paper clip.npy\n",
      "./npy/full_numpy_bitmap_parachute.npy\n",
      "./npy/full_numpy_bitmap_pear.npy\n",
      "./npy/full_numpy_bitmap_peas.npy\n",
      "./npy/full_numpy_bitmap_pig.npy\n",
      "./npy/full_numpy_bitmap_pineapple.npy\n",
      "./npy/full_numpy_bitmap_pizza.npy\n",
      "./npy/full_numpy_bitmap_rabbit.npy\n",
      "./npy/full_numpy_bitmap_rain.npy\n",
      "./npy/full_numpy_bitmap_rainbow.npy\n",
      "./npy/full_numpy_bitmap_river.npy\n",
      "./npy/full_numpy_bitmap_roller coaster.npy\n",
      "./npy/full_numpy_bitmap_scorpion.npy\n",
      "./npy/full_numpy_bitmap_shoe.npy\n",
      "./npy/full_numpy_bitmap_skull.npy\n",
      "./npy/full_numpy_bitmap_snail.npy\n",
      "./npy/full_numpy_bitmap_snake.npy\n",
      "./npy/full_numpy_bitmap_snowflake.npy\n",
      "./npy/full_numpy_bitmap_spider.npy\n",
      "./npy/full_numpy_bitmap_spoon.npy\n",
      "./npy/full_numpy_bitmap_square.npy\n",
      "./npy/full_numpy_bitmap_stairs.npy\n",
      "./npy/full_numpy_bitmap_star.npy\n",
      "./npy/full_numpy_bitmap_stethoscope.npy\n",
      "./npy/full_numpy_bitmap_strawberry.npy\n",
      "./npy/full_numpy_bitmap_sun.npy\n",
      "./npy/full_numpy_bitmap_sword.npy\n",
      "./npy/full_numpy_bitmap_t-shirt.npy\n",
      "./npy/full_numpy_bitmap_table.npy\n",
      "./npy/full_numpy_bitmap_telephone.npy\n",
      "./npy/full_numpy_bitmap_television.npy\n"
     ]
    },
    {
     "name": "stdout",
     "output_type": "stream",
     "text": [
      "./npy/full_numpy_bitmap_tiger.npy\n",
      "./npy/full_numpy_bitmap_toilet.npy\n",
      "./npy/full_numpy_bitmap_tooth.npy\n",
      "./npy/full_numpy_bitmap_tornado.npy\n",
      "./npy/full_numpy_bitmap_traffic light.npy\n",
      "./npy/full_numpy_bitmap_umbrella.npy\n",
      "./npy/full_numpy_bitmap_violin.npy\n",
      "./npy/full_numpy_bitmap_whale.npy\n",
      "./npy/full_numpy_bitmap_wheel.npy\n",
      "./npy/full_numpy_bitmap_windmill.npy\n",
      "Wrote 800000 elements to TFRecord\n",
      "Wrote 200000 elements to TFRecord\n",
      "7\n",
      "./npy/full_numpy_bitmap_angel.npy\n",
      "./npy/full_numpy_bitmap_ant.npy\n",
      "./npy/full_numpy_bitmap_axe.npy\n",
      "./npy/full_numpy_bitmap_basketball.npy\n",
      "./npy/full_numpy_bitmap_bathtub.npy\n",
      "./npy/full_numpy_bitmap_bear.npy\n",
      "./npy/full_numpy_bitmap_bed.npy\n",
      "./npy/full_numpy_bitmap_brain.npy\n",
      "./npy/full_numpy_bitmap_bridge.npy\n",
      "./npy/full_numpy_bitmap_cactus.npy\n",
      "./npy/full_numpy_bitmap_calculator.npy\n",
      "./npy/full_numpy_bitmap_camel.npy\n",
      "./npy/full_numpy_bitmap_camera.npy\n",
      "./npy/full_numpy_bitmap_car.npy\n",
      "./npy/full_numpy_bitmap_carrot.npy\n",
      "./npy/full_numpy_bitmap_castle.npy\n",
      "./npy/full_numpy_bitmap_cat.npy\n",
      "./npy/full_numpy_bitmap_church.npy\n",
      "./npy/full_numpy_bitmap_circle.npy\n",
      "./npy/full_numpy_bitmap_cloud.npy\n",
      "./npy/full_numpy_bitmap_coffee cup.npy\n",
      "./npy/full_numpy_bitmap_couch.npy\n",
      "./npy/full_numpy_bitmap_cow.npy\n",
      "./npy/full_numpy_bitmap_crayon.npy\n",
      "./npy/full_numpy_bitmap_crocodile.npy\n",
      "./npy/full_numpy_bitmap_crown.npy\n",
      "./npy/full_numpy_bitmap_diamond.npy\n",
      "./npy/full_numpy_bitmap_dog.npy\n",
      "./npy/full_numpy_bitmap_dolphin.npy\n",
      "./npy/full_numpy_bitmap_door.npy\n",
      "./npy/full_numpy_bitmap_elephant.npy\n",
      "./npy/full_numpy_bitmap_eye.npy\n",
      "./npy/full_numpy_bitmap_fish.npy\n",
      "./npy/full_numpy_bitmap_flamingo.npy\n",
      "./npy/full_numpy_bitmap_flower.npy\n",
      "./npy/full_numpy_bitmap_fork.npy\n",
      "./npy/full_numpy_bitmap_frog.npy\n",
      "./npy/full_numpy_bitmap_giraffe.npy\n",
      "./npy/full_numpy_bitmap_guitar.npy\n",
      "./npy/full_numpy_bitmap_hamburger.npy\n",
      "./npy/full_numpy_bitmap_hammer.npy\n",
      "./npy/full_numpy_bitmap_hand.npy\n",
      "./npy/full_numpy_bitmap_harp.npy\n",
      "./npy/full_numpy_bitmap_hat.npy\n",
      "./npy/full_numpy_bitmap_hedgehog.npy\n",
      "./npy/full_numpy_bitmap_helicopter.npy\n",
      "./npy/full_numpy_bitmap_horse.npy\n",
      "./npy/full_numpy_bitmap_leaf.npy\n",
      "./npy/full_numpy_bitmap_line.npy\n",
      "./npy/full_numpy_bitmap_lion.npy\n",
      "./npy/full_numpy_bitmap_lobster.npy\n",
      "./npy/full_numpy_bitmap_mailbox.npy\n",
      "./npy/full_numpy_bitmap_matches.npy\n",
      "./npy/full_numpy_bitmap_motorbike.npy\n",
      "./npy/full_numpy_bitmap_mountain.npy\n",
      "./npy/full_numpy_bitmap_mouse.npy\n",
      "./npy/full_numpy_bitmap_mouth.npy\n",
      "./npy/full_numpy_bitmap_mushroom.npy\n",
      "./npy/full_numpy_bitmap_pants.npy\n",
      "./npy/full_numpy_bitmap_paper clip.npy\n",
      "./npy/full_numpy_bitmap_parachute.npy\n",
      "./npy/full_numpy_bitmap_pear.npy\n",
      "./npy/full_numpy_bitmap_peas.npy\n",
      "./npy/full_numpy_bitmap_pig.npy\n",
      "./npy/full_numpy_bitmap_pineapple.npy\n",
      "./npy/full_numpy_bitmap_pizza.npy\n",
      "./npy/full_numpy_bitmap_rabbit.npy\n",
      "./npy/full_numpy_bitmap_rain.npy\n",
      "./npy/full_numpy_bitmap_rainbow.npy\n",
      "./npy/full_numpy_bitmap_river.npy\n",
      "./npy/full_numpy_bitmap_roller coaster.npy\n",
      "./npy/full_numpy_bitmap_scorpion.npy\n",
      "./npy/full_numpy_bitmap_shoe.npy\n",
      "./npy/full_numpy_bitmap_skull.npy\n",
      "./npy/full_numpy_bitmap_snail.npy\n",
      "./npy/full_numpy_bitmap_snake.npy\n",
      "./npy/full_numpy_bitmap_snowflake.npy\n",
      "./npy/full_numpy_bitmap_spider.npy\n",
      "./npy/full_numpy_bitmap_spoon.npy\n",
      "./npy/full_numpy_bitmap_square.npy\n",
      "./npy/full_numpy_bitmap_stairs.npy\n",
      "./npy/full_numpy_bitmap_star.npy\n",
      "./npy/full_numpy_bitmap_stethoscope.npy\n",
      "./npy/full_numpy_bitmap_strawberry.npy\n",
      "./npy/full_numpy_bitmap_sun.npy\n",
      "./npy/full_numpy_bitmap_sword.npy\n",
      "./npy/full_numpy_bitmap_t-shirt.npy\n",
      "./npy/full_numpy_bitmap_table.npy\n",
      "./npy/full_numpy_bitmap_telephone.npy\n",
      "./npy/full_numpy_bitmap_television.npy\n",
      "./npy/full_numpy_bitmap_tiger.npy\n",
      "./npy/full_numpy_bitmap_toilet.npy\n",
      "./npy/full_numpy_bitmap_tooth.npy\n",
      "./npy/full_numpy_bitmap_tornado.npy\n",
      "./npy/full_numpy_bitmap_traffic light.npy\n",
      "./npy/full_numpy_bitmap_umbrella.npy\n",
      "./npy/full_numpy_bitmap_violin.npy\n",
      "./npy/full_numpy_bitmap_whale.npy\n",
      "./npy/full_numpy_bitmap_wheel.npy\n",
      "./npy/full_numpy_bitmap_windmill.npy\n",
      "Wrote 800000 elements to TFRecord\n",
      "Wrote 200000 elements to TFRecord\n",
      "8\n",
      "./npy/full_numpy_bitmap_angel.npy\n",
      "./npy/full_numpy_bitmap_ant.npy\n",
      "./npy/full_numpy_bitmap_axe.npy\n",
      "./npy/full_numpy_bitmap_basketball.npy\n",
      "./npy/full_numpy_bitmap_bathtub.npy\n",
      "./npy/full_numpy_bitmap_bear.npy\n",
      "./npy/full_numpy_bitmap_bed.npy\n",
      "./npy/full_numpy_bitmap_brain.npy\n",
      "./npy/full_numpy_bitmap_bridge.npy\n",
      "./npy/full_numpy_bitmap_cactus.npy\n",
      "./npy/full_numpy_bitmap_calculator.npy\n",
      "./npy/full_numpy_bitmap_camel.npy\n",
      "./npy/full_numpy_bitmap_camera.npy\n",
      "./npy/full_numpy_bitmap_car.npy\n",
      "./npy/full_numpy_bitmap_carrot.npy\n",
      "./npy/full_numpy_bitmap_castle.npy\n",
      "./npy/full_numpy_bitmap_cat.npy\n",
      "./npy/full_numpy_bitmap_church.npy\n",
      "./npy/full_numpy_bitmap_circle.npy\n",
      "./npy/full_numpy_bitmap_cloud.npy\n",
      "./npy/full_numpy_bitmap_coffee cup.npy\n",
      "./npy/full_numpy_bitmap_couch.npy\n",
      "./npy/full_numpy_bitmap_cow.npy\n",
      "./npy/full_numpy_bitmap_crayon.npy\n",
      "./npy/full_numpy_bitmap_crocodile.npy\n",
      "./npy/full_numpy_bitmap_crown.npy\n",
      "./npy/full_numpy_bitmap_diamond.npy\n",
      "./npy/full_numpy_bitmap_dog.npy\n",
      "./npy/full_numpy_bitmap_dolphin.npy\n",
      "./npy/full_numpy_bitmap_door.npy\n",
      "./npy/full_numpy_bitmap_elephant.npy\n",
      "./npy/full_numpy_bitmap_eye.npy\n",
      "./npy/full_numpy_bitmap_fish.npy\n",
      "./npy/full_numpy_bitmap_flamingo.npy\n",
      "./npy/full_numpy_bitmap_flower.npy\n",
      "./npy/full_numpy_bitmap_fork.npy\n",
      "./npy/full_numpy_bitmap_frog.npy\n",
      "./npy/full_numpy_bitmap_giraffe.npy\n",
      "./npy/full_numpy_bitmap_guitar.npy\n",
      "./npy/full_numpy_bitmap_hamburger.npy\n",
      "./npy/full_numpy_bitmap_hammer.npy\n",
      "./npy/full_numpy_bitmap_hand.npy\n",
      "./npy/full_numpy_bitmap_harp.npy\n",
      "./npy/full_numpy_bitmap_hat.npy\n",
      "./npy/full_numpy_bitmap_hedgehog.npy\n",
      "./npy/full_numpy_bitmap_helicopter.npy\n",
      "./npy/full_numpy_bitmap_horse.npy\n",
      "./npy/full_numpy_bitmap_leaf.npy\n",
      "./npy/full_numpy_bitmap_line.npy\n",
      "./npy/full_numpy_bitmap_lion.npy\n",
      "./npy/full_numpy_bitmap_lobster.npy\n",
      "./npy/full_numpy_bitmap_mailbox.npy\n",
      "./npy/full_numpy_bitmap_matches.npy\n",
      "./npy/full_numpy_bitmap_motorbike.npy\n",
      "./npy/full_numpy_bitmap_mountain.npy\n",
      "./npy/full_numpy_bitmap_mouse.npy\n",
      "./npy/full_numpy_bitmap_mouth.npy\n",
      "./npy/full_numpy_bitmap_mushroom.npy\n",
      "./npy/full_numpy_bitmap_pants.npy\n",
      "./npy/full_numpy_bitmap_paper clip.npy\n",
      "./npy/full_numpy_bitmap_parachute.npy\n",
      "./npy/full_numpy_bitmap_pear.npy\n",
      "./npy/full_numpy_bitmap_peas.npy\n",
      "./npy/full_numpy_bitmap_pig.npy\n",
      "./npy/full_numpy_bitmap_pineapple.npy\n",
      "./npy/full_numpy_bitmap_pizza.npy\n",
      "./npy/full_numpy_bitmap_rabbit.npy\n",
      "./npy/full_numpy_bitmap_rain.npy\n",
      "./npy/full_numpy_bitmap_rainbow.npy\n",
      "./npy/full_numpy_bitmap_river.npy\n",
      "./npy/full_numpy_bitmap_roller coaster.npy\n",
      "./npy/full_numpy_bitmap_scorpion.npy\n",
      "./npy/full_numpy_bitmap_shoe.npy\n",
      "./npy/full_numpy_bitmap_skull.npy\n",
      "./npy/full_numpy_bitmap_snail.npy\n",
      "./npy/full_numpy_bitmap_snake.npy\n",
      "./npy/full_numpy_bitmap_snowflake.npy\n",
      "./npy/full_numpy_bitmap_spider.npy\n",
      "./npy/full_numpy_bitmap_spoon.npy\n",
      "./npy/full_numpy_bitmap_square.npy\n",
      "./npy/full_numpy_bitmap_stairs.npy\n",
      "./npy/full_numpy_bitmap_star.npy\n",
      "./npy/full_numpy_bitmap_stethoscope.npy\n",
      "./npy/full_numpy_bitmap_strawberry.npy\n",
      "./npy/full_numpy_bitmap_sun.npy\n",
      "./npy/full_numpy_bitmap_sword.npy\n",
      "./npy/full_numpy_bitmap_t-shirt.npy\n",
      "./npy/full_numpy_bitmap_table.npy\n",
      "./npy/full_numpy_bitmap_telephone.npy\n",
      "./npy/full_numpy_bitmap_television.npy\n",
      "./npy/full_numpy_bitmap_tiger.npy\n",
      "./npy/full_numpy_bitmap_toilet.npy\n",
      "./npy/full_numpy_bitmap_tooth.npy\n",
      "./npy/full_numpy_bitmap_tornado.npy\n",
      "./npy/full_numpy_bitmap_traffic light.npy\n",
      "./npy/full_numpy_bitmap_umbrella.npy\n",
      "./npy/full_numpy_bitmap_violin.npy\n",
      "./npy/full_numpy_bitmap_whale.npy\n",
      "./npy/full_numpy_bitmap_wheel.npy\n",
      "./npy/full_numpy_bitmap_windmill.npy\n",
      "Wrote 800000 elements to TFRecord\n",
      "Wrote 200000 elements to TFRecord\n",
      "9\n",
      "./npy/full_numpy_bitmap_angel.npy\n",
      "./npy/full_numpy_bitmap_ant.npy\n",
      "./npy/full_numpy_bitmap_axe.npy\n",
      "./npy/full_numpy_bitmap_basketball.npy\n",
      "./npy/full_numpy_bitmap_bathtub.npy\n",
      "./npy/full_numpy_bitmap_bear.npy\n",
      "./npy/full_numpy_bitmap_bed.npy\n",
      "./npy/full_numpy_bitmap_brain.npy\n",
      "./npy/full_numpy_bitmap_bridge.npy\n",
      "./npy/full_numpy_bitmap_cactus.npy\n",
      "./npy/full_numpy_bitmap_calculator.npy\n",
      "./npy/full_numpy_bitmap_camel.npy\n",
      "./npy/full_numpy_bitmap_camera.npy\n",
      "./npy/full_numpy_bitmap_car.npy\n",
      "./npy/full_numpy_bitmap_carrot.npy\n",
      "./npy/full_numpy_bitmap_castle.npy\n",
      "./npy/full_numpy_bitmap_cat.npy\n",
      "./npy/full_numpy_bitmap_church.npy\n"
     ]
    },
    {
     "name": "stdout",
     "output_type": "stream",
     "text": [
      "./npy/full_numpy_bitmap_circle.npy\n",
      "./npy/full_numpy_bitmap_cloud.npy\n",
      "./npy/full_numpy_bitmap_coffee cup.npy\n",
      "./npy/full_numpy_bitmap_couch.npy\n",
      "./npy/full_numpy_bitmap_cow.npy\n",
      "./npy/full_numpy_bitmap_crayon.npy\n",
      "./npy/full_numpy_bitmap_crocodile.npy\n",
      "./npy/full_numpy_bitmap_crown.npy\n",
      "./npy/full_numpy_bitmap_diamond.npy\n",
      "./npy/full_numpy_bitmap_dog.npy\n",
      "./npy/full_numpy_bitmap_dolphin.npy\n",
      "./npy/full_numpy_bitmap_door.npy\n",
      "./npy/full_numpy_bitmap_elephant.npy\n",
      "./npy/full_numpy_bitmap_eye.npy\n",
      "./npy/full_numpy_bitmap_fish.npy\n",
      "./npy/full_numpy_bitmap_flamingo.npy\n",
      "./npy/full_numpy_bitmap_flower.npy\n",
      "./npy/full_numpy_bitmap_fork.npy\n",
      "./npy/full_numpy_bitmap_frog.npy\n",
      "./npy/full_numpy_bitmap_giraffe.npy\n",
      "./npy/full_numpy_bitmap_guitar.npy\n",
      "./npy/full_numpy_bitmap_hamburger.npy\n",
      "./npy/full_numpy_bitmap_hammer.npy\n",
      "./npy/full_numpy_bitmap_hand.npy\n",
      "./npy/full_numpy_bitmap_harp.npy\n",
      "./npy/full_numpy_bitmap_hat.npy\n",
      "./npy/full_numpy_bitmap_hedgehog.npy\n",
      "./npy/full_numpy_bitmap_helicopter.npy\n",
      "./npy/full_numpy_bitmap_horse.npy\n",
      "./npy/full_numpy_bitmap_leaf.npy\n",
      "./npy/full_numpy_bitmap_line.npy\n",
      "./npy/full_numpy_bitmap_lion.npy\n",
      "./npy/full_numpy_bitmap_lobster.npy\n",
      "./npy/full_numpy_bitmap_mailbox.npy\n",
      "./npy/full_numpy_bitmap_matches.npy\n",
      "./npy/full_numpy_bitmap_motorbike.npy\n",
      "./npy/full_numpy_bitmap_mountain.npy\n",
      "./npy/full_numpy_bitmap_mouse.npy\n",
      "./npy/full_numpy_bitmap_mouth.npy\n",
      "./npy/full_numpy_bitmap_mushroom.npy\n",
      "./npy/full_numpy_bitmap_pants.npy\n",
      "./npy/full_numpy_bitmap_paper clip.npy\n",
      "./npy/full_numpy_bitmap_parachute.npy\n",
      "./npy/full_numpy_bitmap_pear.npy\n",
      "./npy/full_numpy_bitmap_peas.npy\n",
      "./npy/full_numpy_bitmap_pig.npy\n",
      "./npy/full_numpy_bitmap_pineapple.npy\n",
      "./npy/full_numpy_bitmap_pizza.npy\n",
      "./npy/full_numpy_bitmap_rabbit.npy\n",
      "./npy/full_numpy_bitmap_rain.npy\n",
      "./npy/full_numpy_bitmap_rainbow.npy\n",
      "./npy/full_numpy_bitmap_river.npy\n",
      "./npy/full_numpy_bitmap_roller coaster.npy\n",
      "./npy/full_numpy_bitmap_scorpion.npy\n",
      "./npy/full_numpy_bitmap_shoe.npy\n",
      "./npy/full_numpy_bitmap_skull.npy\n",
      "./npy/full_numpy_bitmap_snail.npy\n",
      "./npy/full_numpy_bitmap_snake.npy\n",
      "./npy/full_numpy_bitmap_snowflake.npy\n",
      "./npy/full_numpy_bitmap_spider.npy\n",
      "./npy/full_numpy_bitmap_spoon.npy\n",
      "./npy/full_numpy_bitmap_square.npy\n",
      "./npy/full_numpy_bitmap_stairs.npy\n",
      "./npy/full_numpy_bitmap_star.npy\n",
      "./npy/full_numpy_bitmap_stethoscope.npy\n",
      "./npy/full_numpy_bitmap_strawberry.npy\n",
      "./npy/full_numpy_bitmap_sun.npy\n",
      "./npy/full_numpy_bitmap_sword.npy\n",
      "./npy/full_numpy_bitmap_t-shirt.npy\n",
      "./npy/full_numpy_bitmap_table.npy\n",
      "./npy/full_numpy_bitmap_telephone.npy\n",
      "./npy/full_numpy_bitmap_television.npy\n",
      "./npy/full_numpy_bitmap_tiger.npy\n",
      "./npy/full_numpy_bitmap_toilet.npy\n",
      "./npy/full_numpy_bitmap_tooth.npy\n",
      "./npy/full_numpy_bitmap_tornado.npy\n",
      "./npy/full_numpy_bitmap_traffic light.npy\n",
      "./npy/full_numpy_bitmap_umbrella.npy\n",
      "./npy/full_numpy_bitmap_violin.npy\n",
      "./npy/full_numpy_bitmap_whale.npy\n",
      "./npy/full_numpy_bitmap_wheel.npy\n",
      "./npy/full_numpy_bitmap_windmill.npy\n",
      "Wrote 800000 elements to TFRecord\n",
      "Wrote 200000 elements to TFRecord\n"
     ]
    }
   ],
   "source": [
    "for shard in range(10):\n",
    "    print(shard)\n",
    "    X_train, X_test, y_train, y_test, class_names = load_shard('./npy/', shard, test_size=0.2, max_items_per_class=10000)\n",
    "    X_train = X_train.reshape(-1,28,28,1)\n",
    "    X_test = X_test.reshape(-1,28,28,1)  \n",
    "    y_train = y_train.reshape(-1,1)\n",
    "    y_test = y_test.reshape(-1,1)\n",
    "    write_images_to_tfr_short(X_train, y_train, filename=f\"./tfrecords/shard_{shard}_train\")\n",
    "    write_images_to_tfr_short(X_test, y_test, filename=f\"./tfrecords/shard_{shard}_test\")"
   ]
  },
  {
   "cell_type": "code",
   "execution_count": 7,
   "id": "3e904764",
   "metadata": {
    "ExecuteTime": {
     "end_time": "2022-12-01T14:26:32.711629Z",
     "start_time": "2022-12-01T14:26:32.699231Z"
    }
   },
   "outputs": [],
   "source": [
    "all_files = glob.glob(os.path.join('./npy/', '*.npy'))"
   ]
  },
  {
   "cell_type": "code",
   "execution_count": 8,
   "id": "312e5cbe",
   "metadata": {
    "ExecuteTime": {
     "end_time": "2022-12-01T14:26:40.001720Z",
     "start_time": "2022-12-01T14:26:39.993696Z"
    }
   },
   "outputs": [
    {
     "data": {
      "text/plain": [
       "100"
      ]
     },
     "execution_count": 8,
     "metadata": {},
     "output_type": "execute_result"
    }
   ],
   "source": [
    "len(all_files)"
   ]
  },
  {
   "cell_type": "code",
   "execution_count": 40,
   "id": "f84de76a",
   "metadata": {
    "ExecuteTime": {
     "end_time": "2022-12-05T11:17:06.749892Z",
     "start_time": "2022-12-05T11:17:06.737489Z"
    }
   },
   "outputs": [],
   "source": [
    "def _bytes_feature(value):\n",
    "    \"\"\"Returns a bytes_list from a string / byte.\"\"\"\n",
    "    if isinstance(value, type(tf.constant(0))): # if value ist tensor\n",
    "        value = value.numpy() # get value of tensor\n",
    "    return tf.train.Feature(bytes_list=tf.train.BytesList(value=[value]))\n",
    "\n",
    "def _float_feature(value):\n",
    "  \"\"\"Returns a floast_list from a float / double.\"\"\"\n",
    "  return tf.train.Feature(float_list=tf.train.FloatList(value=[value]))\n",
    "\n",
    "def _int64_feature(value):\n",
    "  \"\"\"Returns an int64_list from a bool / enum / int / uint.\"\"\"\n",
    "  return tf.train.Feature(int64_list=tf.train.Int64List(value=[value]))\n",
    "\n",
    "def serialize_array(array):\n",
    "  array = tf.io.serialize_tensor(array)\n",
    "  return array"
   ]
  },
  {
   "cell_type": "code",
   "execution_count": 11,
   "id": "99d495f7",
   "metadata": {
    "ExecuteTime": {
     "end_time": "2022-12-01T14:27:58.476261Z",
     "start_time": "2022-12-01T14:27:58.464979Z"
    }
   },
   "outputs": [],
   "source": [
    "def parse_single_image(image, label):\n",
    "  \n",
    "    #define the dictionary -- the structure -- of our single example\n",
    "    data = {\n",
    "        'height' : _int64_feature(image.shape[0]),\n",
    "        'width' : _int64_feature(image.shape[1]),\n",
    "        'depth' : _int64_feature(image.shape[2]),\n",
    "        'raw_image' : _bytes_feature(serialize_array(image)),\n",
    "        'label' : _int64_feature(label)\n",
    "    }\n",
    "    #create an Example, wrapping the single features\n",
    "    out = tf.train.Example(features=tf.train.Features(feature=data))\n",
    "\n",
    "    return out"
   ]
  },
  {
   "cell_type": "code",
   "execution_count": 10,
   "id": "fc9c9017",
   "metadata": {
    "ExecuteTime": {
     "end_time": "2022-12-01T14:27:55.129787Z",
     "start_time": "2022-12-01T14:27:55.127133Z"
    }
   },
   "outputs": [],
   "source": [
    "def write_images_to_tfr_short(images, labels, filename:str=\"images\"):\n",
    "    filename= filename+\".tfrecords\"\n",
    "    writer = tf.io.TFRecordWriter(filename) #create a writer that'll store our data to disk\n",
    "    count = 0\n",
    "\n",
    "    for index in range(len(images)\n",
    "\n",
    "        #get the data we want to write\n",
    "        current_image = images[index] \n",
    "        current_label = labels[index][0]\n",
    "\n",
    "        out = parse_single_image(image=current_image, label=current_label)\n",
    "        writer.write(out.SerializeToString())\n",
    "        count += 1\n",
    "\n",
    "    writer.close()\n",
    "    print(f\"Wrote {count} elements to TFRecord\")\n",
    "    return count"
   ]
  },
  {
   "cell_type": "code",
   "execution_count": 10,
   "id": "9ef2c9d7",
   "metadata": {
    "ExecuteTime": {
     "end_time": "2022-12-01T13:43:49.601387Z",
     "start_time": "2022-12-01T13:43:49.579887Z"
    }
   },
   "outputs": [],
   "source": [
    "def generate_tfrecords(source, class_names, destination, path, test_size, val_size, max_items_per_class):\n",
    "    \n",
    "    class_names = class_names\n",
    "    for idx, class_name in enumerate(sorted(class_names)):\n",
    "        print(class_name)\n",
    "        X_train, X_test, X_val, y_train, y_test, y_val = load_data(source, class_name, idx, test_size=test_size, val_size=val_size, max_items_per_class= max_items_per_class)\n",
    "        X_train = X_train.reshape(-1,28,28,1)\n",
    "        X_test = X_test.reshape(-1,28,28,1)\n",
    "        X_val = X_val.reshape(-1,28,28,1)  \n",
    "        y_train = y_train.reshape(-1,1)\n",
    "        y_test = y_test.reshape(-1,1)\n",
    "        y_val = y_val.reshape(-1,1)\n",
    "        \n",
    "        train_file = f\"./tfrecords/{class_name}_train\"\n",
    "        test_file = f\"./tfrecords/{class_name}_test\"\n",
    "        val_file = f\"./tfrecords/{class_name}_val\"\n",
    "        \n",
    "        if destination == 'local':\n",
    "            write_images_to_tfr_short(X_train, y_train, filename=train_file)\n",
    "            write_images_to_tfr_short(X_test, y_test, filename=test_file)\n",
    "            write_images_to_tfr_short(X_val, y_val, filename=val_file)\n",
    "        \n",
    "        if destination == 'gcp':\n",
    "            client = storage.Client(project='Deep-draw-project')\n",
    "            bucket = client.bucket('tfrecords-files')\n",
    "            write_images_to_tfr_short(X_train, y_train, filename=train_file)\n",
    "            blob = bucket.blob(f'{class_name}_train.tfrecords')\n",
    "            blob.upload_from_filename(train_file + '.tfrecords')\n",
    "            os.remove(train_file + '.tfrecords')\n",
    "            \n",
    "            client = storage.Client(project='Deep-draw-project')\n",
    "            bucket = client.bucket('tfrecords-files')\n",
    "            write_images_to_tfr_short(X_test, y_test, filename=test_file)\n",
    "            blob = bucket.blob(f'{class_name}_test.tfrecords')\n",
    "            blob.upload_from_filename(test_file + '.tfrecords')\n",
    "            os.remove(test_file + '.tfrecords')\n",
    "            \n",
    "            client = storage.Client(project='Deep-draw-project')\n",
    "            bucket = client.bucket('tfrecords-files')\n",
    "            write_images_to_tfr_short(X_val, y_val, filename=val_file)\n",
    "            blob = bucket.blob(f'{class_name}_val.tfrecords')\n",
    "            blob.upload_from_filename(val_file + '.tfrecords')\n",
    "            os.remove(val_file + '.tfrecords')\n",
    "            \n",
    "    return None"
   ]
  },
  {
   "cell_type": "code",
   "execution_count": 5,
   "id": "75946eee",
   "metadata": {
    "ExecuteTime": {
     "end_time": "2022-12-01T14:25:47.034964Z",
     "start_time": "2022-12-01T14:25:47.014477Z"
    }
   },
   "outputs": [],
   "source": [
    "path_yaml= \"./categories.yaml\"\n",
    "with open(path_yaml) as f:\n",
    "    class_names = yaml.load(f, Loader=SafeLoader)"
   ]
  },
  {
   "cell_type": "code",
   "execution_count": 6,
   "id": "ebb2ca80",
   "metadata": {
    "ExecuteTime": {
     "end_time": "2022-12-01T14:25:47.786502Z",
     "start_time": "2022-12-01T14:25:47.767776Z"
    }
   },
   "outputs": [
    {
     "data": {
      "text/plain": [
       "100"
      ]
     },
     "execution_count": 6,
     "metadata": {},
     "output_type": "execute_result"
    }
   ],
   "source": [
    "len(class_names)"
   ]
  },
  {
   "cell_type": "code",
   "execution_count": 18,
   "id": "0a55f018",
   "metadata": {
    "ExecuteTime": {
     "end_time": "2022-12-01T15:49:38.739495Z",
     "start_time": "2022-12-01T15:49:38.179244Z"
    }
   },
   "outputs": [],
   "source": [
    "client = storage.Client(project='deep-draw-project')\n",
    "bucket = client.bucket(bucket_name='tfrecords-files')\n",
    "records = [os.path.join('gs://tfrecords-files/', f.name) for f in\n",
    "                 bucket.list_blobs()]\n",
    "train_records = [elem for elem in records if \"_train\" in elem]\n",
    "#validation_records = [os.path.join('gs://{BUCKET_NAME}/', f.name) for f in\n",
    "#                      bucket.list_blobs(prefix='data/TFR/validation')]\n",
    "#\n",
    "#ds_train = tf.data.TFRecordDataset(train_records, num_parallel_reads=4).map(decode)\n",
    "#ds_val = tf.data.TFRecordDataset(validation_records,num_parallel_reads=4).map(decode)"
   ]
  },
  {
   "cell_type": "code",
   "execution_count": 20,
   "id": "08669f46",
   "metadata": {
    "ExecuteTime": {
     "end_time": "2022-12-01T15:49:58.735602Z",
     "start_time": "2022-12-01T15:49:58.732186Z"
    }
   },
   "outputs": [],
   "source": [
    "def get_dataset_multi_2(files):\n",
    "    #create the dataset\n",
    "    dataset = tf.data.TFRecordDataset(files)\n",
    "\n",
    "    #pass every single feature through our mapping function\n",
    "    dataset = dataset.map(parse_tfr_element)\n",
    "\n",
    "    return dataset"
   ]
  },
  {
   "cell_type": "code",
   "execution_count": 25,
   "id": "20b9878d",
   "metadata": {
    "ExecuteTime": {
     "end_time": "2022-12-01T13:05:38.735465Z",
     "start_time": "2022-12-01T13:05:38.733156Z"
    }
   },
   "outputs": [
    {
     "data": {
      "text/plain": [
       "83"
      ]
     },
     "execution_count": 25,
     "metadata": {},
     "output_type": "execute_result"
    }
   ],
   "source": [
    "len(train_records)"
   ]
  },
  {
   "cell_type": "code",
   "execution_count": 25,
   "id": "04e3116a",
   "metadata": {
    "ExecuteTime": {
     "end_time": "2022-12-01T15:51:34.208200Z",
     "start_time": "2022-12-01T15:51:34.177269Z"
    }
   },
   "outputs": [],
   "source": [
    "dataset = get_dataset_multi_2(train_records)\n",
    "#dataset = dataset.shuffle(buffer_size=83*56000)\n",
    "#dataset = dataset.batch(32)\n",
    "#dataset = dataset.map(lambda x, y:(tf.cast(x, tf.float32)/255.0, y))\n",
    "#for sample in dataset.take(2):\n",
    "#    print(sample[0].shape)\n",
    "#    print(sample[1].shape)"
   ]
  },
  {
   "cell_type": "code",
   "execution_count": 26,
   "id": "11f595ea",
   "metadata": {
    "ExecuteTime": {
     "end_time": "2022-12-01T15:51:41.081887Z",
     "start_time": "2022-12-01T15:51:41.066485Z"
    }
   },
   "outputs": [
    {
     "data": {
      "text/plain": [
       "<MapDataset element_spec=(TensorSpec(shape=(None, None, None), dtype=tf.int64, name=None), TensorSpec(shape=(), dtype=tf.int64, name=None))>"
      ]
     },
     "execution_count": 26,
     "metadata": {},
     "output_type": "execute_result"
    }
   ],
   "source": [
    "dataset"
   ]
  },
  {
   "cell_type": "code",
   "execution_count": 24,
   "id": "ff69fd4a",
   "metadata": {
    "ExecuteTime": {
     "end_time": "2022-12-01T13:04:51.465074Z",
     "start_time": "2022-12-01T13:04:44.738730Z"
    }
   },
   "outputs": [
    {
     "data": {
      "image/png": "[encoded data removed]",
      "text/plain": [
       "<Figure size 1000x1000 with 9 Axes>"
      ]
     },
     "metadata": {},
     "output_type": "display_data"
    }
   ],
   "source": [
    "plt.figure(figsize=(10, 10))\n",
    "for images, labels in dataset.take(1):\n",
    "    for i in range(9):\n",
    "        ax = plt.subplot(3, 3, i + 1)\n",
    "        plt.imshow(images[i].numpy())\n",
    "        plt.title(int(labels[i]))\n",
    "        plt.axis(\"off\")"
   ]
  },
  {
   "cell_type": "code",
   "execution_count": 19,
   "id": "09c9310c",
   "metadata": {
    "ExecuteTime": {
     "end_time": "2022-12-01T11:58:06.174050Z",
     "start_time": "2022-12-01T11:58:06.164120Z"
    }
   },
   "outputs": [
    {
     "data": {
      "text/plain": [
       "['gs://tfrecords-files/angel_train.tfrecords',\n",
       " 'gs://tfrecords-files/ant_train.tfrecords',\n",
       " 'gs://tfrecords-files/axe_train.tfrecords',\n",
       " 'gs://tfrecords-files/basketball_train.tfrecords',\n",
       " 'gs://tfrecords-files/bathtub_train.tfrecords',\n",
       " 'gs://tfrecords-files/bear_train.tfrecords',\n",
       " 'gs://tfrecords-files/bed_train.tfrecords',\n",
       " 'gs://tfrecords-files/brain_train.tfrecords',\n",
       " 'gs://tfrecords-files/bridge_train.tfrecords',\n",
       " 'gs://tfrecords-files/cactus_train.tfrecords',\n",
       " 'gs://tfrecords-files/calculator_train.tfrecords',\n",
       " 'gs://tfrecords-files/camel_train.tfrecords',\n",
       " 'gs://tfrecords-files/camera_train.tfrecords',\n",
       " 'gs://tfrecords-files/car_train.tfrecords',\n",
       " 'gs://tfrecords-files/carrot_train.tfrecords',\n",
       " 'gs://tfrecords-files/castle_train.tfrecords',\n",
       " 'gs://tfrecords-files/cat_train.tfrecords',\n",
       " 'gs://tfrecords-files/church_train.tfrecords',\n",
       " 'gs://tfrecords-files/circle_train.tfrecords',\n",
       " 'gs://tfrecords-files/cloud_train.tfrecords',\n",
       " 'gs://tfrecords-files/coffee cup_train.tfrecords',\n",
       " 'gs://tfrecords-files/couch_train.tfrecords',\n",
       " 'gs://tfrecords-files/cow_train.tfrecords',\n",
       " 'gs://tfrecords-files/crayon_train.tfrecords',\n",
       " 'gs://tfrecords-files/crocodile_train.tfrecords',\n",
       " 'gs://tfrecords-files/crown_train.tfrecords',\n",
       " 'gs://tfrecords-files/diamond_train.tfrecords',\n",
       " 'gs://tfrecords-files/dog_train.tfrecords',\n",
       " 'gs://tfrecords-files/dolphin_train.tfrecords',\n",
       " 'gs://tfrecords-files/door_train.tfrecords',\n",
       " 'gs://tfrecords-files/elephant_train.tfrecords',\n",
       " 'gs://tfrecords-files/eye_train.tfrecords',\n",
       " 'gs://tfrecords-files/fish_train.tfrecords',\n",
       " 'gs://tfrecords-files/flamingo_train.tfrecords',\n",
       " 'gs://tfrecords-files/flower_train.tfrecords',\n",
       " 'gs://tfrecords-files/fork_train.tfrecords',\n",
       " 'gs://tfrecords-files/frog_train.tfrecords',\n",
       " 'gs://tfrecords-files/giraffe_train.tfrecords',\n",
       " 'gs://tfrecords-files/guitar_train.tfrecords',\n",
       " 'gs://tfrecords-files/hamburger_train.tfrecords',\n",
       " 'gs://tfrecords-files/hammer_train.tfrecords',\n",
       " 'gs://tfrecords-files/hand_train.tfrecords',\n",
       " 'gs://tfrecords-files/harp_train.tfrecords',\n",
       " 'gs://tfrecords-files/hat_train.tfrecords',\n",
       " 'gs://tfrecords-files/hedgehog_train.tfrecords',\n",
       " 'gs://tfrecords-files/helicopter_train.tfrecords',\n",
       " 'gs://tfrecords-files/horse_train.tfrecords',\n",
       " 'gs://tfrecords-files/leaf_train.tfrecords',\n",
       " 'gs://tfrecords-files/line_train.tfrecords',\n",
       " 'gs://tfrecords-files/lion_train.tfrecords',\n",
       " 'gs://tfrecords-files/rain_train.tfrecords',\n",
       " 'gs://tfrecords-files/rainbow_train.tfrecords',\n",
       " 'gs://tfrecords-files/river_train.tfrecords',\n",
       " 'gs://tfrecords-files/roller coaster_train.tfrecords',\n",
       " 'gs://tfrecords-files/scorpion_train.tfrecords',\n",
       " 'gs://tfrecords-files/shoe_train.tfrecords',\n",
       " 'gs://tfrecords-files/skull_train.tfrecords',\n",
       " 'gs://tfrecords-files/snail_train.tfrecords',\n",
       " 'gs://tfrecords-files/snake_train.tfrecords',\n",
       " 'gs://tfrecords-files/snowflake_train.tfrecords',\n",
       " 'gs://tfrecords-files/spider_train.tfrecords',\n",
       " 'gs://tfrecords-files/spoon_train.tfrecords',\n",
       " 'gs://tfrecords-files/square_train.tfrecords',\n",
       " 'gs://tfrecords-files/stairs_train.tfrecords',\n",
       " 'gs://tfrecords-files/star_train.tfrecords',\n",
       " 'gs://tfrecords-files/stethoscope_train.tfrecords',\n",
       " 'gs://tfrecords-files/strawberry_train.tfrecords',\n",
       " 'gs://tfrecords-files/sun_train.tfrecords',\n",
       " 'gs://tfrecords-files/sword_train.tfrecords',\n",
       " 'gs://tfrecords-files/t-shirt_train.tfrecords',\n",
       " 'gs://tfrecords-files/table_train.tfrecords',\n",
       " 'gs://tfrecords-files/telephone_train.tfrecords',\n",
       " 'gs://tfrecords-files/television_train.tfrecords',\n",
       " 'gs://tfrecords-files/tiger_train.tfrecords',\n",
       " 'gs://tfrecords-files/toilet_train.tfrecords',\n",
       " 'gs://tfrecords-files/tooth_train.tfrecords',\n",
       " 'gs://tfrecords-files/tornado_train.tfrecords',\n",
       " 'gs://tfrecords-files/traffic light_train.tfrecords',\n",
       " 'gs://tfrecords-files/umbrella_train.tfrecords',\n",
       " 'gs://tfrecords-files/violin_train.tfrecords',\n",
       " 'gs://tfrecords-files/whale_train.tfrecords',\n",
       " 'gs://tfrecords-files/wheel_train.tfrecords',\n",
       " 'gs://tfrecords-files/windmill_train.tfrecords']"
      ]
     },
     "execution_count": 19,
     "metadata": {},
     "output_type": "execute_result"
    }
   ],
   "source": [
    "train_records"
   ]
  },
  {
   "cell_type": "code",
   "execution_count": 32,
   "id": "2614f8d0",
   "metadata": {
    "ExecuteTime": {
     "end_time": "2022-11-30T14:47:35.440876Z",
     "start_time": "2022-11-30T14:47:34.985594Z"
    }
   },
   "outputs": [
    {
     "name": "stdout",
     "output_type": "stream",
     "text": [
      "apple_test.tfrecords\n",
      "apple_train.tfrecords\n",
      "apple_val.tfrecords\n"
     ]
    }
   ],
   "source": [
    "client = storage.Client(project='plasma-kit-365110')\n",
    "bucket = client.bucket(bucket_name='deepdraw')\n",
    "for i in bucket.list_blobs():\n",
    "    print(i.name)"
   ]
  },
  {
   "cell_type": "code",
   "execution_count": 22,
   "id": "594937dd",
   "metadata": {
    "ExecuteTime": {
     "end_time": "2022-12-01T15:50:08.166505Z",
     "start_time": "2022-12-01T15:50:08.153410Z"
    }
   },
   "outputs": [],
   "source": [
    "def parse_tfr_element(element):\n",
    "    #use the same structure as above; it's kinda an outline of the structure we now want to create\n",
    "    data = {\n",
    "      'height': tf.io.FixedLenFeature([], tf.int64),\n",
    "      'width':tf.io.FixedLenFeature([], tf.int64),\n",
    "      'label':tf.io.FixedLenFeature([], tf.int64),\n",
    "      'raw_image' : tf.io.FixedLenFeature([], tf.string),\n",
    "      'depth':tf.io.FixedLenFeature([], tf.int64),\n",
    "    }\n",
    "\n",
    "\n",
    "    content = tf.io.parse_single_example(element, data)\n",
    "\n",
    "    height = content['height']\n",
    "    width = content['width']\n",
    "    depth = content['depth']\n",
    "    label = content['label']\n",
    "    raw_image = content['raw_image']\n",
    "\n",
    "\n",
    "    #get our 'feature'-- our image -- and reshape it appropriately\n",
    "    feature = tf.io.parse_tensor(raw_image, out_type=tf.int64)\n",
    "    feature = tf.reshape(feature, shape=[height,width,depth])\n",
    "    return (feature, label)"
   ]
  },
  {
   "cell_type": "code",
   "execution_count": 8,
   "id": "b491877f",
   "metadata": {
    "ExecuteTime": {
     "end_time": "2022-11-30T11:01:27.825733Z",
     "start_time": "2022-11-30T11:01:27.823477Z"
    }
   },
   "outputs": [],
   "source": [
    "def get_dataset_multi(tfr_dir: str = \"/content/\", pattern: str = \"*.tfrecords\"):\n",
    "    files = glob.glob(os.path.join(tfr_dir, pattern), recursive=False)\n",
    "    print(files)\n",
    "\n",
    "    #create the dataset\n",
    "    dataset = tf.data.TFRecordDataset(files)\n",
    "\n",
    "    #pass every single feature through our mapping function\n",
    "    dataset = dataset.map(parse_tfr_element)\n",
    "\n",
    "    return dataset"
   ]
  },
  {
   "cell_type": "code",
   "execution_count": 11,
   "id": "3fde4b1e",
   "metadata": {
    "ExecuteTime": {
     "end_time": "2022-11-30T11:02:12.502634Z",
     "start_time": "2022-11-30T11:02:10.877443Z"
    }
   },
   "outputs": [
    {
     "name": "stdout",
     "output_type": "stream",
     "text": [
      "['./tfrecords/angel_train.tfrecords', './tfrecords/basketball_train.tfrecords']\n",
      "(32, 28, 28, 1)\n",
      "(32,)\n",
      "(32, 28, 28, 1)\n",
      "(32,)\n"
     ]
    }
   ],
   "source": [
    "dataset = get_dataset_multi(tfr_dir='./tfrecords', pattern=\"*train.tfrecords\")\n",
    "dataset = dataset.shuffle(buffer_size=112000)\n",
    "dataset = dataset.batch(32)\n",
    "dataset = dataset.map(lambda x, y:(tf.cast(x, tf.float32)/255.0, y))\n",
    "for sample in dataset.take(2):\n",
    "    print(sample[0].shape)\n",
    "    print(sample[1].shape)"
   ]
  },
  {
   "cell_type": "code",
   "execution_count": 12,
   "id": "df7b2a06",
   "metadata": {
    "ExecuteTime": {
     "end_time": "2022-11-30T11:02:16.198808Z",
     "start_time": "2022-11-30T11:02:14.553172Z"
    }
   },
   "outputs": [
    {
     "data": {
      "image/png": "[encoded data removed]",
      "text/plain": [
       "<Figure size 1000x1000 with 9 Axes>"
      ]
     },
     "metadata": {},
     "output_type": "display_data"
    }
   ],
   "source": [
    "plt.figure(figsize=(10, 10))\n",
    "for images, labels in dataset.take(1):\n",
    "    for i in range(9):\n",
    "        ax = plt.subplot(3, 3, i + 1)\n",
    "        plt.imshow(images[i].numpy())\n",
    "        plt.title(int(labels[i]))\n",
    "        plt.axis(\"off\")"
   ]
  },
  {
   "cell_type": "markdown",
   "id": "78ab587d",
   "metadata": {},
   "source": [
    "## TFrecords for RNN"
   ]
  },
  {
   "cell_type": "code",
   "execution_count": 4,
   "id": "858faff0",
   "metadata": {
    "ExecuteTime": {
     "end_time": "2022-12-05T08:48:21.465795Z",
     "start_time": "2022-12-05T08:48:18.424939Z"
    }
   },
   "outputs": [],
   "source": [
    "import numpy as np\n",
    "from sklearn.model_selection import train_test_split\n",
    "from io import BytesIO\n",
    "import tensorflow as tf\n",
    "import numpy as np\n",
    "from tensorflow.python.lib.io import file_io\n",
    "import glob\n",
    "import os"
   ]
  },
  {
   "cell_type": "code",
   "execution_count": 5,
   "id": "24af5272",
   "metadata": {
    "ExecuteTime": {
     "end_time": "2022-12-05T08:49:17.301578Z",
     "start_time": "2022-12-05T08:48:21.467054Z"
    }
   },
   "outputs": [],
   "source": [
    "files = glob.glob(os.path.join('./ndjson', '*.ndjson'), recursive=False)\n",
    "max_point = 0\n",
    "class_names = []\n",
    "for file in sorted(files) : \n",
    "    with open(file, 'r') as f :\n",
    "        simp_ndjson_lines = f.readlines()\n",
    "        class_name = json.loads(simp_ndjson_lines[0])['word']\n",
    "        class_names.append(class_name)\n",
    "        for i in range(len(simp_ndjson_lines)) :\n",
    "            strokes = json.loads(simp_ndjson_lines[i])['drawing']\n",
    "            stroke_lengths = [len(stroke[0]) for stroke in strokes]\n",
    "            total_points = sum(stroke_lengths)\n",
    "            max_point = max(max_point, total_points)"
   ]
  },
  {
   "cell_type": "code",
   "execution_count": 28,
   "id": "bdaedb77",
   "metadata": {
    "ExecuteTime": {
     "end_time": "2022-12-05T10:44:30.305583Z",
     "start_time": "2022-12-05T10:44:30.185193Z"
    }
   },
   "outputs": [],
   "source": [
    "with open('./ndjson/full_simplified_angel.ndjson', 'r') as f :\n",
    "    angels_simp_ndjson_lines = f.readlines()"
   ]
  },
  {
   "cell_type": "code",
   "execution_count": 7,
   "id": "91de1c0c",
   "metadata": {
    "ExecuteTime": {
     "end_time": "2022-12-05T08:49:17.372707Z",
     "start_time": "2022-12-05T08:49:17.368396Z"
    }
   },
   "outputs": [
    {
     "data": {
      "text/plain": [
       "1920"
      ]
     },
     "execution_count": 7,
     "metadata": {},
     "output_type": "execute_result"
    }
   ],
   "source": [
    "max_point"
   ]
  },
  {
   "cell_type": "code",
   "execution_count": 31,
   "id": "c8b09963",
   "metadata": {
    "ExecuteTime": {
     "end_time": "2022-12-05T11:14:37.524185Z",
     "start_time": "2022-12-05T11:14:37.511920Z"
    }
   },
   "outputs": [
    {
     "data": {
      "text/plain": [
       "['The Eiffel Tower',\n",
       " 'The Mona Lisa',\n",
       " 'airplane',\n",
       " 'angel',\n",
       " 'banana',\n",
       " 'baseball',\n",
       " 'belt',\n",
       " 'bench',\n",
       " 'bird',\n",
       " 'bridge',\n",
       " 'bus',\n",
       " 'cactus',\n",
       " 'camel',\n",
       " 'camera',\n",
       " 'car',\n",
       " 'carrot',\n",
       " 'cat',\n",
       " 'couch',\n",
       " 'donut',\n",
       " 'door',\n",
       " 'dragon',\n",
       " 'elephant',\n",
       " 'envelope',\n",
       " 'eye',\n",
       " 'flower',\n",
       " 'frog',\n",
       " 'grapes',\n",
       " 'hat',\n",
       " 'hedgehog',\n",
       " 'hexagon',\n",
       " 'ice cream',\n",
       " 'key',\n",
       " 'light bulb',\n",
       " 'moon',\n",
       " 'mug',\n",
       " 'pig',\n",
       " 'pineapple',\n",
       " 'pizza',\n",
       " 'potato',\n",
       " 'smiley face',\n",
       " 'snake',\n",
       " 'snowman',\n",
       " 'spider',\n",
       " 'star',\n",
       " 'stop sign',\n",
       " 'telephone',\n",
       " 'television',\n",
       " 'umbrella',\n",
       " 'wheel',\n",
       " 'windmill']"
      ]
     },
     "execution_count": 31,
     "metadata": {},
     "output_type": "execute_result"
    }
   ],
   "source": [
    "class_names"
   ]
  },
  {
   "cell_type": "code",
   "execution_count": 32,
   "id": "1a38b22d",
   "metadata": {
    "ExecuteTime": {
     "end_time": "2022-12-05T11:15:56.791525Z",
     "start_time": "2022-12-05T11:15:56.783610Z"
    }
   },
   "outputs": [],
   "source": [
    "import yaml\n",
    "with open(r'./categories_rnn_50.yaml', 'w') as file:\n",
    "    documents = yaml.dump(sorted(class_names), file)"
   ]
  },
  {
   "cell_type": "code",
   "execution_count": 33,
   "id": "b56f6d11",
   "metadata": {
    "ExecuteTime": {
     "end_time": "2022-12-05T11:15:57.329975Z",
     "start_time": "2022-12-05T11:15:57.316534Z"
    }
   },
   "outputs": [],
   "source": [
    "def to_big_strokes(stroke, max_len=500):\n",
    "    \"\"\"Converts from stroke-3 to stroke-5 format and pads to given length.\"\"\"\n",
    "    # (But does not insert special start token).\n",
    "\n",
    "    result = np.zeros((max_len, 5), dtype=float)\n",
    "    l = len(stroke)\n",
    "    assert l <= max_len\n",
    "    result[0:l, 0:2] = stroke[:, 0:2]\n",
    "    result[0:l, 3] = stroke[:, 2]\n",
    "    result[0:l, 2] = 1 - result[0:l, 3]\n",
    "    result[l:, 4] = 1\n",
    "    return result"
   ]
  },
  {
   "cell_type": "code",
   "execution_count": 34,
   "id": "8b1ee538",
   "metadata": {
    "ExecuteTime": {
     "end_time": "2022-12-05T11:15:58.784279Z",
     "start_time": "2022-12-05T11:15:58.780312Z"
    }
   },
   "outputs": [],
   "source": [
    "def padding(stroke, max_len=500):\n",
    "    \"\"\"Converts from stroke-3 to stroke-5 format and pads to given length.\"\"\"\n",
    "    # (But does not insert special start token).\n",
    "\n",
    "    result = np.ones((max_len, 3), dtype=float)*1000\n",
    "    length = len(stroke)\n",
    "    assert length <= max_len\n",
    "    result[0:length, 0:3] = stroke[:, 0:3]\n",
    "    return result"
   ]
  },
  {
   "cell_type": "code",
   "execution_count": 35,
   "id": "1764b595",
   "metadata": {
    "ExecuteTime": {
     "end_time": "2022-12-05T11:15:59.299420Z",
     "start_time": "2022-12-05T11:15:59.289532Z"
    }
   },
   "outputs": [],
   "source": [
    "def parse_line(ndjson_line):\n",
    "    \"\"\"Parse an ndjson line and return ink (as np array) and classname.\"\"\"\n",
    "    sample = json.loads(ndjson_line)\n",
    "    class_name = sample[\"word\"]\n",
    "    if not class_name:\n",
    "        print (\"Empty classname\")\n",
    "        return None, None\n",
    "    inkarray = sample[\"drawing\"]\n",
    "    stroke_lengths = [len(stroke[0]) for stroke in inkarray]\n",
    "    total_points = sum(stroke_lengths)\n",
    "    np_ink = np.zeros((total_points, 3), dtype=np.float32)\n",
    "    current_t = 0\n",
    "    if not inkarray:\n",
    "        print(\"Empty inkarray\")\n",
    "        return None, None\n",
    "    for stroke in inkarray:\n",
    "        if len(stroke[0]) != len(stroke[1]):\n",
    "            print(\"Inconsistent number of x and y coordinates.\")\n",
    "            return None, None\n",
    "        for i in [0, 1]:\n",
    "            np_ink[current_t:(current_t + len(stroke[0])), i] = stroke[i]\n",
    "        current_t += len(stroke[0])\n",
    "        np_ink[current_t - 1, 2] = 1  # stroke_end\n",
    "    # Preprocessing.\n",
    "    # 1. Size normalization.\n",
    "    lower = np.min(np_ink[:, 0:2], axis=0)\n",
    "    upper = np.max(np_ink[:, 0:2], axis=0)\n",
    "    scale = upper - lower\n",
    "    scale[scale == 0] = 1\n",
    "    np_ink[:, 0:2] = (np_ink[:, 0:2] - lower) / scale\n",
    "    # 2. Compute deltas.\n",
    "    np_ink[1:, 0:2] -= np_ink[0:-1, 0:2]\n",
    "    np_ink = np_ink[1:, :]\n",
    "    return padding(np_ink, max_len=max_point), class_name"
   ]
  },
  {
   "cell_type": "code",
   "execution_count": 36,
   "id": "9a52da1c",
   "metadata": {
    "ExecuteTime": {
     "end_time": "2022-12-05T11:16:00.714343Z",
     "start_time": "2022-12-05T11:16:00.700211Z"
    }
   },
   "outputs": [
    {
     "data": {
      "text/plain": [
       "1920"
      ]
     },
     "execution_count": 36,
     "metadata": {},
     "output_type": "execute_result"
    }
   ],
   "source": [
    "len(parse_line(angels_simp_ndjson_lines[0])[0])"
   ]
  },
  {
   "cell_type": "code",
   "execution_count": 67,
   "id": "474784ff",
   "metadata": {
    "ExecuteTime": {
     "end_time": "2022-12-05T11:25:24.776052Z",
     "start_time": "2022-12-05T11:25:24.761344Z"
    }
   },
   "outputs": [
    {
     "data": {
      "text/plain": [
       "'{\"word\":\"angel\",\"countrycode\":\"US\",\"timestamp\":\"2017-03-13 15:30:54.82243 UTC\",\"recognized\":false,\"key_id\":\"5864802511486976\",\"drawing\":[[[93,103,104,139,140,149,84],[174,111,51,54,97,171,173]],[[103,81,58,50,42,20,7,0,1,10,23,121,124],[73,61,32,27,28,42,60,77,112,127,134,163,162]],[[140,148,158,187,214,250,255,254,250,237,220,209,179,147,145],[66,47,34,23,19,28,57,86,103,125,147,154,161,163,154]],[[113,108,101,101,113,130,140,142,131,116,115],[50,44,21,2,0,3,16,29,44,46,39]],[[110,112],[9,14]],[[123,123],[9,13]],[[120,120],[20,26]],[[113,116,123,133],[32,39,41,34]],[[96,93,87,85,90,94],[171,193,195,199,201,193]],[[138,143,150,150,147,141],[172,195,192,195,199,192]]]}\\n'"
      ]
     },
     "execution_count": 67,
     "metadata": {},
     "output_type": "execute_result"
    }
   ],
   "source": [
    "angels_simp_ndjson_lines[0]"
   ]
  },
  {
   "cell_type": "code",
   "execution_count": 37,
   "id": "379740be",
   "metadata": {
    "ExecuteTime": {
     "end_time": "2022-12-05T11:16:02.691980Z",
     "start_time": "2022-12-05T11:16:02.680259Z"
    }
   },
   "outputs": [
    {
     "data": {
      "text/plain": [
       "array([[ 3.92156839e-02, -3.13432813e-01,  0.00000000e+00],\n",
       "       [ 3.92156839e-03, -2.98507482e-01,  0.00000000e+00],\n",
       "       [ 1.37254924e-01,  1.49253905e-02,  0.00000000e+00],\n",
       "       ...,\n",
       "       [ 1.00000000e+03,  1.00000000e+03,  1.00000000e+03],\n",
       "       [ 1.00000000e+03,  1.00000000e+03,  1.00000000e+03],\n",
       "       [ 1.00000000e+03,  1.00000000e+03,  1.00000000e+03]])"
      ]
     },
     "execution_count": 37,
     "metadata": {},
     "output_type": "execute_result"
    }
   ],
   "source": [
    "parse_line(angels_simp_ndjson_lines[0])[0]"
   ]
  },
  {
   "cell_type": "code",
   "execution_count": 38,
   "id": "64314508",
   "metadata": {
    "ExecuteTime": {
     "end_time": "2022-12-05T11:16:04.829520Z",
     "start_time": "2022-12-05T11:16:04.822106Z"
    }
   },
   "outputs": [],
   "source": [
    "import tensorflow as tf\n",
    "import random"
   ]
  },
  {
   "cell_type": "code",
   "execution_count": 39,
   "id": "b668418c",
   "metadata": {
    "ExecuteTime": {
     "end_time": "2022-12-05T11:16:05.480830Z",
     "start_time": "2022-12-05T11:16:05.429431Z"
    }
   },
   "outputs": [],
   "source": [
    "def convert_data(trainingdata_dir,\n",
    "                 observations_per_class,\n",
    "                 output_file,\n",
    "                 classnames,\n",
    "                 output_shards=10,\n",
    "                 offset=0):\n",
    "    \"\"\"Convert training data from ndjson files into tf.Example in tf.Record.\n",
    "\n",
    "    Args:\n",
    "    trainingdata_dir: path to the directory containin the training data.\n",
    "     The training data is stored in that directory as ndjson files.\n",
    "    observations_per_class: the number of items to load per class.\n",
    "    output_file: path where to write the output.\n",
    "    classnames: array with classnames - is auto created if not passed in.\n",
    "    output_shards: the number of shards to write the output in.\n",
    "    offset: the number of items to skip at the beginning of each file.\n",
    "\n",
    "    Returns:\n",
    "    classnames: the class names as strings. classnames[classes[i]] is the\n",
    "      textual representation of the class of the i-th data point.\n",
    "    \"\"\"\n",
    "\n",
    "    def _pick_output_shard():\n",
    "        return random.randint(0, output_shards - 1)\n",
    "\n",
    "    file_handles = []\n",
    "    # Open all input files.\n",
    "    for filename in sorted(tf.compat.v1.gfile.ListDirectory(trainingdata_dir)):\n",
    "        if not filename.endswith(\".ndjson\"):\n",
    "            print(\"Skipping\", filename)\n",
    "            continue\n",
    "        file_handles.append(\n",
    "            tf.io.gfile.GFile(os.path.join(trainingdata_dir, filename), \"r\"))\n",
    "        if offset != 0:  # Fast forward all files to skip the offset.\n",
    "            count = 0\n",
    "            for _ in file_handles[-1]:\n",
    "                count += 1\n",
    "                if count == offset:\n",
    "                    break\n",
    "\n",
    "    writers = []\n",
    "    for i in range(output_shards):\n",
    "        writers.append(\n",
    "            tf.io.TFRecordWriter(\"%s-%05i-of-%05i\" % (output_file, i,\n",
    "                                                         output_shards)))\n",
    "\n",
    "    reading_order = list(range(len(file_handles))) * observations_per_class\n",
    "    random.shuffle(reading_order)\n",
    "\n",
    "    for c in reading_order:\n",
    "        line = file_handles[c].readline()\n",
    "        ink = None\n",
    "        while ink is None:\n",
    "            ink, class_name = parse_line(line)\n",
    "            if ink is None:\n",
    "                print (\"Couldn't parse ink from '\" + line + \"'.\")\n",
    "        if class_name not in classnames:\n",
    "            classnames.append(class_name)\n",
    "        features = {}\n",
    "        features[\"class_index\"] = _int64_feature(classnames.index(class_name))\n",
    "        features[\"ink\"] = _bytes_feature(serialize_array(ink))\n",
    "        features[\"height\"] = _int64_feature(ink.shape[0])\n",
    "        features[\"width\"] = _int64_feature(ink.shape[1])\n",
    "        f = tf.train.Features(feature=features)\n",
    "        example = tf.train.Example(features=f)\n",
    "        writers[_pick_output_shard()].write(example.SerializeToString())\n",
    "\n",
    "    # Close all files\n",
    "    for w in writers:\n",
    "        w.close()\n",
    "    for f in file_handles:\n",
    "        f.close()\n",
    "    # Write the class list.\n",
    "    with tf.io.gfile.GFile(output_file + \".classes\", \"w\") as f:\n",
    "        for class_name in classnames:\n",
    "            f.write(class_name + \"\\n\")\n",
    "    return classnames"
   ]
  },
  {
   "cell_type": "code",
   "execution_count": 25,
   "id": "dc3f7945",
   "metadata": {
    "ExecuteTime": {
     "end_time": "2022-12-05T08:54:42.178639Z",
     "start_time": "2022-12-05T08:54:40.999542Z"
    }
   },
   "outputs": [
    {
     "name": "stdout",
     "output_type": "stream",
     "text": [
      "Skipping .DS_Store\n"
     ]
    },
    {
     "ename": "NameError",
     "evalue": "name '_int64_feature' is not defined",
     "output_type": "error",
     "traceback": [
      "\u001b[0;31m---------------------------------------------------------------------------\u001b[0m",
      "\u001b[0;31mNameError\u001b[0m                                 Traceback (most recent call last)",
      "Cell \u001b[0;32mIn [25], line 1\u001b[0m\n\u001b[0;32m----> 1\u001b[0m classnames \u001b[38;5;241m=\u001b[39m convert_data(\u001b[38;5;124m'\u001b[39m\u001b[38;5;124m./ndjson\u001b[39m\u001b[38;5;124m'\u001b[39m, \u001b[38;5;241m80000\u001b[39m, \u001b[38;5;124m\"\u001b[39m\u001b[38;5;124m./tfrecords/train.tfrecords\u001b[39m\u001b[38;5;124m\"\u001b[39m, class_names, output_shards\u001b[38;5;241m=\u001b[39m\u001b[38;5;241m10\u001b[39m, offset\u001b[38;5;241m=\u001b[39m\u001b[38;5;241m0\u001b[39m)\n\u001b[1;32m      2\u001b[0m convert_data(\u001b[38;5;124m'\u001b[39m\u001b[38;5;124m./ndjson\u001b[39m\u001b[38;5;124m'\u001b[39m, \u001b[38;5;241m20000\u001b[39m, \u001b[38;5;124m\"\u001b[39m\u001b[38;5;124m./tfrecords/test.tfrecords\u001b[39m\u001b[38;5;124m\"\u001b[39m, class_names, output_shards\u001b[38;5;241m=\u001b[39m\u001b[38;5;241m10\u001b[39m, offset\u001b[38;5;241m=\u001b[39m\u001b[38;5;241m80000\u001b[39m)\n",
      "Cell \u001b[0;32mIn [24], line 60\u001b[0m, in \u001b[0;36mconvert_data\u001b[0;34m(trainingdata_dir, observations_per_class, output_file, classnames, output_shards, offset)\u001b[0m\n\u001b[1;32m     58\u001b[0m     classnames\u001b[38;5;241m.\u001b[39mappend(class_name)\n\u001b[1;32m     59\u001b[0m features \u001b[38;5;241m=\u001b[39m {}\n\u001b[0;32m---> 60\u001b[0m features[\u001b[38;5;124m\"\u001b[39m\u001b[38;5;124mclass_index\u001b[39m\u001b[38;5;124m\"\u001b[39m] \u001b[38;5;241m=\u001b[39m \u001b[43m_int64_feature\u001b[49m(classnames\u001b[38;5;241m.\u001b[39mindex(class_name))\n\u001b[1;32m     61\u001b[0m features[\u001b[38;5;124m\"\u001b[39m\u001b[38;5;124mink\u001b[39m\u001b[38;5;124m\"\u001b[39m] \u001b[38;5;241m=\u001b[39m _bytes_feature(serialize_array(ink))\n\u001b[1;32m     62\u001b[0m features[\u001b[38;5;124m\"\u001b[39m\u001b[38;5;124mheight\u001b[39m\u001b[38;5;124m\"\u001b[39m] \u001b[38;5;241m=\u001b[39m _int64_feature(ink\u001b[38;5;241m.\u001b[39mshape[\u001b[38;5;241m0\u001b[39m])\n",
      "\u001b[0;31mNameError\u001b[0m: name '_int64_feature' is not defined"
     ]
    }
   ],
   "source": [
    "classnames = convert_data('./ndjson', 80000, \"./tfrecords/train.tfrecords\", class_names, output_shards=10, offset=0)\n",
    "convert_data('./ndjson', 20000, \"./tfrecords/test.tfrecords\", class_names, output_shards=10, offset=80000)"
   ]
  },
  {
   "cell_type": "code",
   "execution_count": 46,
   "id": "2e72abd6",
   "metadata": {
    "ExecuteTime": {
     "end_time": "2022-12-05T11:20:11.712283Z",
     "start_time": "2022-12-05T11:20:11.699355Z"
    }
   },
   "outputs": [],
   "source": [
    "def parse_tfexample_fn2(element):\n",
    "    \"\"\"Parse a single record which is expected to be a tensorflow.Example.\"\"\"\n",
    "    feature_to_type = {\n",
    "        \"ink\": tf.io.FixedLenFeature([], dtype=tf.string),\n",
    "        \"height\": tf.io.FixedLenFeature([], dtype=tf.int64),\n",
    "        \"width\": tf.io.FixedLenFeature([], dtype=tf.int64),\n",
    "        \"class_index\" : tf.io.FixedLenFeature([], dtype=tf.int64)\n",
    "    }\n",
    "    \n",
    "    content = tf.io.parse_single_example(element, feature_to_type)\n",
    "    height = content[\"height\"]\n",
    "    width = content[\"width\"]\n",
    "    label= content[\"class_index\"]\n",
    "    raw_image = content[\"ink\"]\n",
    "    feature = tf.io.parse_tensor(raw_image, out_type=tf.double)\n",
    "    feature = tf.reshape(feature, shape=[height,width])\n",
    "    return (feature, label)"
   ]
  },
  {
   "cell_type": "code",
   "execution_count": 45,
   "id": "7c53ef65",
   "metadata": {
    "ExecuteTime": {
     "end_time": "2022-12-05T11:20:09.230700Z",
     "start_time": "2022-12-05T11:20:09.219297Z"
    }
   },
   "outputs": [],
   "source": [
    "def get_dataset_rnn(tfr_dir: str = \"/content/\", pattern: str = \"*.tfrecords\"):\n",
    "    files = glob.glob(os.path.join(tfr_dir, pattern), recursive=False)\n",
    "\n",
    "    #create the dataset\n",
    "    dataset = tf.data.TFRecordDataset(files)\n",
    "\n",
    "    #pass every single feature through our mapping function\n",
    "    dataset = dataset.map(parse_tfexample_fn2)\n",
    "\n",
    "    return dataset"
   ]
  },
  {
   "cell_type": "code",
   "execution_count": 47,
   "id": "39ef6155",
   "metadata": {
    "ExecuteTime": {
     "end_time": "2022-12-05T11:20:15.617380Z",
     "start_time": "2022-12-05T11:20:15.495531Z"
    }
   },
   "outputs": [
    {
     "name": "stdout",
     "output_type": "stream",
     "text": [
      "(32, 1920, 3)\n",
      "(32,)\n",
      "(32, 1920, 3)\n",
      "(32,)\n"
     ]
    },
    {
     "name": "stderr",
     "output_type": "stream",
     "text": [
      "2022-12-05 12:20:15.605462: W tensorflow/core/platform/profile_utils/cpu_utils.cc:128] Failed to get CPU frequency: 0 Hz\n"
     ]
    }
   ],
   "source": [
    "dataset = get_dataset_rnn('../../../deepdraw/raw_data/tfrecords', pattern=\"*train.tfrecords\")\n",
    "dataset = dataset.batch(32)\n",
    "for sample in dataset.take(2):\n",
    "    print(sample[0].shape)\n",
    "    print(sample[1].shape)"
   ]
  },
  {
   "cell_type": "code",
   "execution_count": 33,
   "id": "c2a11079",
   "metadata": {
    "ExecuteTime": {
     "end_time": "2022-12-03T18:22:16.145664Z",
     "start_time": "2022-12-03T18:22:16.143176Z"
    }
   },
   "outputs": [],
   "source": [
    "def to_normal_strokes(big_stroke):\n",
    "    \"\"\"Convert from stroke-5 format (from sketch-rnn paper) back to stroke-3.\"\"\"\n",
    "    l = 0\n",
    "    for i in range(len(big_stroke)):\n",
    "        if big_stroke[i, 4] > 0:\n",
    "            l = i\n",
    "            break\n",
    "    if l == 0:\n",
    "        l = len(big_stroke)\n",
    "    result = np.zeros((l, 3))\n",
    "    result[:, 0:2] = big_stroke[0:l, 0:2]\n",
    "    result[:, 2] = big_stroke[0:l, 3]\n",
    "    return result"
   ]
  },
  {
   "cell_type": "code",
   "execution_count": 42,
   "id": "5477124c",
   "metadata": {
    "ExecuteTime": {
     "end_time": "2022-12-05T11:19:59.825962Z",
     "start_time": "2022-12-05T11:19:59.782157Z"
    }
   },
   "outputs": [],
   "source": [
    "import os\n",
    "import svgwrite\n",
    "from IPython.display import SVG, display\n",
    "\n",
    "def draw_strokes(data, factor=0.045, save=False, svg_filename = './svg/sample.svg', bounds=None):\n",
    "    if save :\n",
    "        if not os.path.exists(os.path.dirname(svg_filename)):\n",
    "            os.makedirs(os.path.dirname(svg_filename))\n",
    "    if bounds != None :\n",
    "        min_x, max_x, min_y, max_y = bounds[0], bounds[1], bounds[2], bounds[3]\n",
    "    else :    \n",
    "        min_x, max_x, min_y, max_y = get_bounds(data, factor)\n",
    "    dims = (50 + max_x - min_x, 50 + max_y - min_y)\n",
    "    dwg = svgwrite.Drawing(svg_filename, size=dims)\n",
    "    dwg.add(dwg.rect(insert=(0, 0), size=dims,fill='white'))\n",
    "    lift_pen = 1\n",
    "    abs_x = 25 - min_x \n",
    "    abs_y = 25 - min_y\n",
    "    p = \"M%s,%s \" % (abs_x, abs_y)\n",
    "    command = \"m\"\n",
    "    for i in range(len(data)):\n",
    "        if (lift_pen == 1):\n",
    "            command = \"m\"\n",
    "        elif (command != \"l\"):\n",
    "            command = \"l\"\n",
    "        else:\n",
    "            command = \"\"\n",
    "        x = float(data[i,0])/factor\n",
    "        y = float(data[i,1])/factor\n",
    "        lift_pen = data[i, 2]\n",
    "        p += command+str(x)+\",\"+str(y)+\" \"\n",
    "    the_color = \"black\"\n",
    "    stroke_width = 1\n",
    "    dwg.add(dwg.path(p).stroke(the_color,stroke_width).fill(\"none\"))\n",
    "    if save:\n",
    "        dwg.save()\n",
    "    #display(SVG(dwg.tostring()))\n",
    "    return dwg\n",
    "\n",
    "def get_bounds(data, factor=1):\n",
    "    \"\"\"Return bounds of data.\"\"\"\n",
    "    min_x = 0\n",
    "    max_x = 0\n",
    "    min_y = 0\n",
    "    max_y = 0\n",
    "\n",
    "    abs_x = 0\n",
    "    abs_y = 0\n",
    "    for i in range(len(data)):\n",
    "        x = float(data[i, 0]) / factor\n",
    "        y = float(data[i, 1]) / factor\n",
    "        abs_x += x\n",
    "        abs_y += y\n",
    "        min_x = min(min_x, abs_x)\n",
    "        min_y = min(min_y, abs_y)\n",
    "        max_x = max(max_x, abs_x)\n",
    "        max_y = max(max_y, abs_y)\n",
    "    return (min_x, max_x, min_y, max_y)"
   ]
  }
 ],
 "metadata": {
  "kernelspec": {
   "display_name": "Python 3 (ipykernel)",
   "language": "python",
   "name": "python3"
  },
  "language_info": {
   "codemirror_mode": {
    "name": "ipython",
    "version": 3
   },
   "file_extension": ".py",
   "mimetype": "text/x-python",
   "name": "python",
   "nbconvert_exporter": "python",
   "pygments_lexer": "ipython3",
   "version": "3.10.6"
  },
  "toc": {
   "base_numbering": 1,
   "nav_menu": {},
   "number_sections": true,
   "sideBar": true,
   "skip_h1_title": false,
   "title_cell": "Table of Contents",
   "title_sidebar": "Contents",
   "toc_cell": false,
   "toc_position": {},
   "toc_section_display": true,
   "toc_window_display": false
  }
 },
 "nbformat": 4,
 "nbformat_minor": 5
}
